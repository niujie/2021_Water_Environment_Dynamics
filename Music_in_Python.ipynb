{
 "cells": [
  {
   "source": [
    "# Music in Python\n",
    "\n",
    "## What is Sound?\n",
    "\n",
    "## Making a Sound in Python\n",
    "\n",
    "In convention, the $A$ above middle $C$ has a frequency of $440Hz$. Then we can derive any note using this formula:\n",
    "$$f(n)=(\\sqrt[12] 2)^{n-49}\\times440\\text{Hz}$$\n",
    "where $n$ is the rank of the key ($A4$ is the $49^{th}$ key).\n",
    "\n",
    "Below is the code to generate the frequency of 88 keys on the piano."
   ],
   "cell_type": "markdown",
   "metadata": {}
  },
  {
   "cell_type": "code",
   "execution_count": null,
   "metadata": {},
   "outputs": [],
   "source": [
    "import numpy as np\n",
    "\n",
    "def get_piano_notes():\n",
    "    # White keys are in Uppercase and black keys (sharps) are in lower case\n",
    "    octave = ['C', 'c', 'D', 'd', 'E', 'F', 'f', 'G', 'g', 'A', 'a', 'B']\n",
    "    base_freq = 440     # Frequency of Note A4\n",
    "    keys = np.array([x + str(y) for y in range(0, 9) for x in octave])\n",
    "    # Trim to standard 88 keys\n",
    "    start = np.where(keys == 'A0')[0][0]\n",
    "    end = np.where(keys == 'C8')[0][0]\n",
    "    keys = keys[start : end + 1]\n",
    "\n",
    "    note_freqs = dict(zip(keys, [2**((n+1-49)/12)*base_freq for n in range(len(keys))]))\n",
    "    note_freqs[''] = 0.0    # stop\n",
    "    return note_freqs"
   ]
  },
  {
   "source": [
    "Now we want to make a wave of middle $C$:"
   ],
   "cell_type": "markdown",
   "metadata": {}
  },
  {
   "cell_type": "code",
   "execution_count": null,
   "metadata": {},
   "outputs": [],
   "source": [
    "import numpy as np\n",
    "\n",
    "def get_sine_wave(frequency, duration, sample_rate=44100, amplitude=4096):\n",
    "    t = np.linspace(0, duration, int(sample_rate*duration)) # Time axis\n",
    "    wave = amplitude * np.sin(2 * np.pi * frequency * t)\n",
    "    return wave"
   ]
  },
  {
   "source": [
    "Here `duration` is in number of seconds, `sample_rate` determines the quality of sound, and `amplitude` determines the volume."
   ],
   "cell_type": "markdown",
   "metadata": {}
  },
  {
   "source": [
    "Using the two functions above and `Scipy`'s `wavfile` module, we can create a `.wav` file of middle $C$."
   ],
   "cell_type": "markdown",
   "metadata": {}
  },
  {
   "cell_type": "code",
   "execution_count": null,
   "metadata": {},
   "outputs": [],
   "source": [
    "import numpy as np\n",
    "from scipy.io import wavfile\n",
    "\n",
    "# Get middle C frequency\n",
    "note_freqs = get_piano_notes()\n",
    "frequency_C4 = note_freqs['C4']\n",
    "\n",
    "# Pure sine wave\n",
    "sine_wave_C4 = get_sine_wave(frequency_C4, duration=2, amplitude=16384)\n",
    "wavfile.write('pure_c.wav', rate=44100, data=sine_wave_C4.astype(np.int16))"
   ]
  },
  {
   "source": [
    "Let's plot the wave of $C4$ and $D4$."
   ],
   "cell_type": "markdown",
   "metadata": {}
  },
  {
   "cell_type": "code",
   "execution_count": null,
   "metadata": {},
   "outputs": [],
   "source": [
    "import matplotlib.pyplot as plt\n",
    "\n",
    "frequency_D4 = note_freqs['D4']\n",
    "sine_wave_C4 = get_sine_wave(frequency_C4, duration=0.02, amplitude=16384)\n",
    "sine_wave_D4 = get_sine_wave(frequency_D4, duration=0.02, amplitude=16384)\n",
    "\n",
    "plt.plot(sine_wave_C4, label='C')\n",
    "plt.plot(sine_wave_D4, label='D')\n",
    "plt.legend()\n",
    "plt.xlabel('Time')\n",
    "plt.ylabel('Amplitude')\n",
    "plt.title('Sine Wave of Middle C and D')\n",
    "plt.show()"
   ]
  },
  {
   "source": [
    "## Making Realistic Sound\n",
    "\n",
    "Once again using Scipy, we will load the piano audio and plot the sound wave using Matplotlib."
   ],
   "cell_type": "markdown",
   "metadata": {}
  },
  {
   "cell_type": "code",
   "execution_count": null,
   "metadata": {},
   "outputs": [],
   "source": [
    "from scipy.io import wavfile\n",
    "import matplotlib.pyplot as plt\n",
    "plt.style.use('seaborn-dark')\n",
    "\n",
    "# Load data from wav file\n",
    "sample_rate, middle_c = wavfile.read('data/piano_c4.wav')\n",
    "\n",
    "# Plot sound wave\n",
    "plt.plot(middle_c[500:1500])\n",
    "plt.xlabel('Time')\n",
    "plt.ylabel('Amplitude')\n",
    "plt.title('Sound Wave of Middle C on Piano')\n",
    "plt.grid()"
   ]
  },
  {
   "source": [
    "Let's apply fast Fourier transform (FFT) on our piano audio and plot the spectrogram."
   ],
   "cell_type": "markdown",
   "metadata": {}
  },
  {
   "cell_type": "code",
   "execution_count": null,
   "metadata": {},
   "outputs": [],
   "source": [
    "import numpy as np\n",
    "from scipy.io import wavfile\n",
    "import matplotlib.pyplot as plt\n",
    "plt.style.use('seaborn-dark')\n",
    "\n",
    "# Load data from wav file\n",
    "sample_rate, middle_c = wavfile.read('data/piano_c4.wav')\n",
    "\n",
    "#FFT\n",
    "t = np.arange(middle_c.shape[0])\n",
    "freq = np.fft.fftfreq(t.shape[-1])*sample_rate\n",
    "sp0 = np.fft.fft(middle_c[:,0])\n",
    "sp1 = np.fft.fft(middle_c[:,1])\n",
    "\n",
    "# Plot spectrum\n",
    "plt.plot(freq, abs(sp0.real))\n",
    "plt.plot(freq, abs(sp1.real))\n",
    "plt.xlabel('Frequency (Hz)')\n",
    "plt.ylabel('Amplitude')\n",
    "plt.title('Spectrum of Middle C Recording on Piano')\n",
    "plt.xlim((0, 2000))\n",
    "plt.grid()"
   ]
  },
  {
   "source": [
    "The piece of code below calculates the ratio of the magnitude between each overtone and the fundamental from the piano sample so that we can apply that to our pure sine waves."
   ],
   "cell_type": "markdown",
   "metadata": {}
  },
  {
   "cell_type": "code",
   "execution_count": null,
   "metadata": {},
   "outputs": [],
   "source": [
    "import numpy as np\n",
    "\n",
    "# Get positive frequency\n",
    "idx = np.where(freq > 0)[0]\n",
    "freq = freq[idx]\n",
    "sp = sp1[idx]\n",
    "\n",
    "# Get dominant frequencies\n",
    "sort = np.argsort(-abs(sp.real))[:100]\n",
    "dom_freq = freq[sort]\n",
    "\n",
    "# Round and calculate amplitude ratio\n",
    "freq_ratio = np.round(dom_freq/frequency_C4)\n",
    "unique_freq_ratio = np.unique(freq_ratio)\n",
    "amp_ratio = abs(sp.real[sort]/np.sum(sp.real[sort]))\n",
    "factor = np.zeros((int(unique_freq_ratio[-1]), ))\n",
    "for i in range(factor.shape[0]):\n",
    "    idx = np.where(freq_ratio==i+1)[0]\n",
    "    factor[i] = np.sum(amp_ratio[idx])\n",
    "factor = factor/np.sum(factor)"
   ]
  },
  {
   "source": [
    "Now we apply those ratios to our fundamental note and its overtones."
   ],
   "cell_type": "markdown",
   "metadata": {}
  },
  {
   "cell_type": "code",
   "execution_count": null,
   "metadata": {},
   "outputs": [],
   "source": [
    "def apply_overtones(frequency, duration, factor, sample_rate=44100, amplitude=4096):\n",
    "\n",
    "    assert abs(1-sum(factor)) < 1e-8\n",
    "    \n",
    "    frequencies = np.minimum(np.array([frequency*(x+1) for x in range(len(factor))]), sample_rate//2)\n",
    "    amplitudes = np.array([amplitude*x for x in factor])\n",
    "    \n",
    "    fundamental = get_sine_wave(frequencies[0], duration, sample_rate, amplitudes[0])\n",
    "    for i in range(1, len(factor)):\n",
    "        overtone = get_sine_wave(frequencies[i], duration, sample_rate, amplitudes[i])\n",
    "        fundamental += overtone\n",
    "    return fundamental\n",
    "\n",
    "# Construct harmonic series\n",
    "note = apply_overtones(frequency_C4, duration=2.5, factor=factor)\n",
    "wavfile.write('overtone_c.wav', sample_rate, note.astype(np.int16))"
   ]
  },
  {
   "source": [
    "When we press an actual piano key, it started out light before quickly getting louder, and the sound diminishes over time. One model to describe how the sound changes is ADSR (attack, decay, sustain and release). Essentially it describes sound as going through four stages: the initial stage of incline, then descending to a lower level, maintaining there for a little while before diminishing to zero. "
   ],
   "cell_type": "markdown",
   "metadata": {}
  },
  {
   "cell_type": "code",
   "execution_count": null,
   "metadata": {},
   "outputs": [],
   "source": [
    "import numpy as np\n",
    "\n",
    "def get_adsr_weights(frequency, duration, length, decay, sustain_level, sample_rate=44100):\n",
    "\n",
    "    assert abs(sum(length)-1) < 1e-8\n",
    "    assert len(length) ==len(decay) == 4\n",
    "    \n",
    "    intervals = int(duration*frequency)\n",
    "    len_A = np.maximum(int(intervals*length[0]),1)\n",
    "    len_D = np.maximum(int(intervals*length[1]),1)\n",
    "    len_S = np.maximum(int(intervals*length[2]),1)\n",
    "    len_R = np.maximum(int(intervals*length[3]),1)\n",
    "    \n",
    "    decay_A = decay[0]\n",
    "    decay_D = decay[1]\n",
    "    decay_S = decay[2]\n",
    "    decay_R = decay[3]\n",
    "    \n",
    "    A = 1/np.array([(1-decay_A)**n for n in range(len_A)])\n",
    "    A = A/np.nanmax(A)\n",
    "    D = np.array([(1-decay_D)**n for n in range(len_D)])\n",
    "    D = D*(1-sustain_level)+sustain_level\n",
    "    S = np.array([(1-decay_S)**n for n in range(len_S)])\n",
    "    S = S*sustain_level\n",
    "    R = np.array([(1-decay_R)**n for n in range(len_R)])\n",
    "    R = R*S[-1]\n",
    "    \n",
    "    weights = np.concatenate((A,D,S,R))\n",
    "    smoothing = np.array([0.1*(1-0.1)**n for n in range(5)])\n",
    "    smoothing = smoothing/np.nansum(smoothing)\n",
    "    weights = np.convolve(weights, smoothing, mode='same')\n",
    "    \n",
    "    weights = np.repeat(weights, int(sample_rate*duration/intervals))\n",
    "    tail = int(sample_rate*duration-weights.shape[0])\n",
    "    if tail > 0:\n",
    "        weights = np.concatenate((weights, weights[-1]-weights[-1]/tail*np.arange(tail)))\n",
    "    return weights"
   ]
  },
  {
   "source": [
    "## Putting It Together"
   ],
   "cell_type": "markdown",
   "metadata": {}
  },
  {
   "cell_type": "code",
   "execution_count": null,
   "metadata": {},
   "outputs": [],
   "source": [
    "import numpy as np\n",
    "from scipy.io import wavfile\n",
    "\n",
    "# Get sound wave\n",
    "note = apply_overtones(frequency_C4, duration=2.5, factor=factor)\n",
    "\n",
    "# Apply smooth ADSR weights\n",
    "weights = get_adsr_weights(frequency_C4, duration=2.5, length=[0.05, 0.25, 0.55, 0.15], decay=[0.075,0.02,0.005,0.1], sustain_level=0.1)\n",
    "\n",
    "# Write to file\n",
    "data = note*weights\n",
    "data = data*(16384/np.max(data)) # Adjusting the Amplitude \n",
    "wavfile.write('synthetic_c.wav', sample_rate, data.astype(np.int16))"
   ]
  },
  {
   "source": [
    "## A version to access the note with different duration"
   ],
   "cell_type": "markdown",
   "metadata": {}
  },
  {
   "cell_type": "code",
   "execution_count": null,
   "metadata": {},
   "outputs": [],
   "source": [
    "def n(note, duration=1.0, amplitude=16384):\n",
    "    freq = note_freqs[note];\n",
    "    note = apply_overtones(freq, duration=duration, factor=factor)\n",
    "    weights = get_adsr_weights(freq, duration=duration, length=[0.05,0.25,0.55,0.15], decay=[0.075,0.02,0.005,0.1], sustain_level=0.1)\n",
    "    data = note*weights\n",
    "    return data"
   ]
  },
  {
   "cell_type": "code",
   "execution_count": null,
   "metadata": {},
   "outputs": [],
   "source": [
    "score = np.concatenate([n('C4',.5)+n('C3',.5),n('C4',.5)+n('C3',.5),n('G4',.5)+n('G3',.5),n('G4',.5)+n('G3',.5),\n",
    "        n('A4',.5)+n('A3',.5),n('A4',.5)+n('A3',.5),n('G4',1)+n('G3',1),\n",
    "        n('F4',.5)+n('F3',.5),n('F4',.5)+n('F3',.5),n('E4',.5)+n('E3',.5),n('E4',.25)+n('E3',.25),n('E4',.25)+n('E3',.25),\n",
    "        n('D4',.5)+n('D3',.5),n('D4',.5)+n('D3',.5),n('C4',1)+n('C3',1)])\n",
    "wavfile.write('twinkle_twinkle_little_star.wav', sample_rate, score.astype(np.int16))"
   ]
  },
  {
   "cell_type": "code",
   "execution_count": null,
   "metadata": {},
   "outputs": [],
   "source": []
  }
 ],
 "metadata": {
  "kernelspec": {
   "display_name": "Python 3",
   "language": "python",
   "name": "python3"
  },
  "language_info": {
   "codemirror_mode": {
    "name": "ipython",
    "version": 3
   },
   "file_extension": ".py",
   "mimetype": "text/x-python",
   "name": "python",
   "nbconvert_exporter": "python",
   "pygments_lexer": "ipython3",
   "version": "3.8.5"
  }
 },
 "nbformat": 4,
 "nbformat_minor": 4
}