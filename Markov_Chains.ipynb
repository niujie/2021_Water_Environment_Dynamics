{
 "cells": [
  {
   "cell_type": "markdown",
   "id": "stunning-messaging",
   "metadata": {},
   "source": [
    "# 马尔可夫链\n",
    "\n",
    "## 一个简单例子\n",
    "连续两次吃的不同食物的概率如下图：\n",
    "\n",
    "<img src=\"./images/food.jpg\" width=600/>\n",
    "\n",
    "譬如，第一次吃的是汉堡，第二次是披萨的概率为0.6，是热狗的概率为0.2，还是汉堡的概率为0.2。注意，$0.6+0.2+0.2=1$。如果是第一次是披萨，那第二次是汉堡或者热狗的概率分别为0.3和0.7，$0.3+0.7=1$。如果第一次是热狗，那第二次是热狗或者汉堡的概率分别为0.5，$0.5+0.5=1$。"
   ]
  },
  {
   "cell_type": "markdown",
   "id": "technological-findings",
   "metadata": {},
   "source": [
    "考虑条件概率\n",
    "\n",
    "$$P(X_{n+1}=x\\ |\\ X_1=x_1,X_2=x_2,\\dots,X_n=x_n)$$\n",
    "\n",
    "即第$n+1$次事件发生概率与前$n$次事件有关，但马尔可夫链将概率大大简化：\n",
    "\n",
    "$$P(X_{n+1}=x\\ |\\ X_n=x_n)$$\n",
    "\n",
    "即第$n+1$次事件发生概率仅与第$n$次事件有关。"
   ]
  },
  {
   "cell_type": "markdown",
   "id": "hazardous-gossip",
   "metadata": {},
   "source": [
    "假设有如下事件：\n",
    "\n",
    "<img src=\"./images/food_chain.jpg\" width=\"600\"/>\n",
    "\n",
    "第四天是热狗的概率（传统条件概率）：\n",
    "\n",
    "$$P(X_4=热狗\\ |\\ X_1=披萨,X_2=汉堡,X_3=披萨)$$\n",
    "\n",
    "但马尔可夫链（又称为马尔可夫概率）则为：\n",
    "\n",
    "$$P(X_4=热狗\\ |\\ X_3=披萨)=0.7$$"
   ]
  },
  {
   "cell_type": "markdown",
   "id": "conditional-details",
   "metadata": {},
   "source": [
    "图中每种食物称为马尔可夫链中的一个状态，从**每个状态出发的概率之和为 _1_**。\n",
    "\n",
    "我们下面模拟随机游走(Random Walk)10次的结果，从汉堡开始。"
   ]
  },
  {
   "cell_type": "code",
   "execution_count": 20,
   "id": "korean-malaysia",
   "metadata": {},
   "outputs": [
    {
     "name": "stdout",
     "output_type": "stream",
     "text": [
      "hamburger -> pizza -> hotdog -> hotdog -> hamburger -> pizza -> hotdog -> hamburger -> hamburger -> pizza -> hamburger \n",
      "\n",
      "hamburger :  4 , P =  0.4\n",
      "pizza :  3 , P =  0.3\n",
      "hotdog :  3 , P =  0.3\n"
     ]
    }
   ],
   "source": [
    "import random\n",
    "\n",
    "def random_walk(N):\n",
    "    # # total number of iteration\n",
    "    state = \"hamburger\"\n",
    "\n",
    "    prob = {\"hamburger\": 0, \"pizza\": 0, \"hotdog\": 0}\n",
    "\n",
    "    # note that python does NOT have a switch-case syntax\n",
    "    # one can only use if-elif-else\n",
    "\n",
    "    random.seed(1234)  # set the psudo-random seed\n",
    "\n",
    "    for _ in range(N):\n",
    "        prob[state] += 1\n",
    "        \n",
    "        if N <= 10:\n",
    "            print(state, end = ' -> ')\n",
    "        \n",
    "        p = random.random()  # random number [0.1, 1.0)\n",
    "        if state == \"hamburger\":\n",
    "            if p <= 0.2:\n",
    "                state = \"hamburger\"\n",
    "            elif 0.2 < p <= 0.4:\n",
    "                state = \"hotdog\"\n",
    "            else:\n",
    "                state = \"pizza\"\n",
    "        elif state == \"pizza\":\n",
    "            if p <= 0.3:\n",
    "                state = \"hamburger\"\n",
    "            else:\n",
    "                state = \"hotdog\"\n",
    "        elif state == \"hotdog\":\n",
    "            if p <= 0.5:\n",
    "                state = \"hotdog\"\n",
    "            else:\n",
    "                state = \"hamburger\"\n",
    "\n",
    "    if N <= 10:\n",
    "        print(state, '\\n')\n",
    "\n",
    "    # calcualte and print the probability for each food\n",
    "    for key, val in prob.items():\n",
    "        prob[key] = val / N\n",
    "        print(key, ': ', val, ', P = ', prob[key])\n",
    "\n",
    "random_walk(10)"
   ]
  },
  {
   "cell_type": "markdown",
   "id": "assured-conflict",
   "metadata": {},
   "source": [
    "如果我们运行程序成千上万次呢？"
   ]
  },
  {
   "cell_type": "code",
   "execution_count": 21,
   "id": "immune-account",
   "metadata": {},
   "outputs": [
    {
     "name": "stdout",
     "output_type": "stream",
     "text": [
      "hamburger :  352 , P =  0.352\n",
      "pizza :  215 , P =  0.215\n",
      "hotdog :  433 , P =  0.433\n"
     ]
    }
   ],
   "source": [
    "random_walk(1000)"
   ]
  },
  {
   "cell_type": "code",
   "execution_count": 22,
   "id": "secondary-happiness",
   "metadata": {},
   "outputs": [
    {
     "name": "stdout",
     "output_type": "stream",
     "text": [
      "hamburger :  3502 , P =  0.3502\n",
      "pizza :  2065 , P =  0.2065\n",
      "hotdog :  4433 , P =  0.4433\n"
     ]
    }
   ],
   "source": [
    "random_walk(10000)"
   ]
  },
  {
   "cell_type": "code",
   "execution_count": 23,
   "id": "public-natural",
   "metadata": {},
   "outputs": [
    {
     "name": "stdout",
     "output_type": "stream",
     "text": [
      "hamburger :  35051 , P =  0.35051\n",
      "pizza :  21187 , P =  0.21187\n",
      "hotdog :  43762 , P =  0.43762\n"
     ]
    }
   ],
   "source": [
    "random_walk(100000)"
   ]
  },
  {
   "cell_type": "markdown",
   "id": "hungarian-account",
   "metadata": {},
   "source": [
    "可以看到，概率趋向一个稳定的值，称为**平稳分布概率**。但这个概率的**解析值**究竟是多少？是否存在多个**平衡态**？\n",
    "\n",
    "这个问题的本质是**有向图**，我们可以用**相邻矩阵**来表示：\n",
    "\n",
    "<img src=\"./images/food_matrix.jpg\" width=600/>\n",
    "\n",
    "用$A$来存这个矩阵："
   ]
  },
  {
   "cell_type": "code",
   "execution_count": 25,
   "id": "developmental-president",
   "metadata": {},
   "outputs": [
    {
     "name": "stdout",
     "output_type": "stream",
     "text": [
      "[[0.2 0.6 0.2]\n",
      " [0.3 0.  0.7]\n",
      " [0.5 0.  0.5]]\n"
     ]
    }
   ],
   "source": [
    "import numpy as np\n",
    "\n",
    "A = np.array([[0.2, 0.6, 0.2], [0.3, 0, 0.7], [0.5, 0, 0.5]])\n",
    "print(A)"
   ]
  },
  {
   "cell_type": "markdown",
   "id": "criminal-phenomenon",
   "metadata": {},
   "source": [
    "用$p$表示食物出现概率，譬如，第一天是披萨，则有："
   ]
  },
  {
   "cell_type": "code",
   "execution_count": 52,
   "id": "outstanding-sally",
   "metadata": {},
   "outputs": [],
   "source": [
    "p0 = np.array([0, 1, 0])"
   ]
  },
  {
   "cell_type": "markdown",
   "id": "respective-briefs",
   "metadata": {},
   "source": [
    "$$\n",
    "p_0 A = [0\\quad1\\quad0]\n",
    "\\left[\n",
    "\\begin{array}{ccc}\n",
    "0.2 & 0.6 & 0.2\\\\\n",
    "0.3 &  0  & 0.7\\\\\n",
    "0.5 &  0  & 0.5\n",
    "\\end{array}\n",
    "\\right]\n",
    "=[0.3\\quad0\\quad0.7]\n",
    "$$"
   ]
  },
  {
   "cell_type": "code",
   "execution_count": 57,
   "id": "entertaining-italic",
   "metadata": {},
   "outputs": [
    {
     "name": "stdout",
     "output_type": "stream",
     "text": [
      "[0.3 0.  0.7]\n"
     ]
    }
   ],
   "source": [
    "p1 = np.dot(p0, A)\n",
    "print(p1)"
   ]
  },
  {
   "cell_type": "code",
   "execution_count": 60,
   "id": "removable-eligibility",
   "metadata": {},
   "outputs": [
    {
     "name": "stdout",
     "output_type": "stream",
     "text": [
      "[0.41 0.18 0.41]\n"
     ]
    }
   ],
   "source": [
    "p2 = np.dot(p1, A)\n",
    "print(p2)"
   ]
  },
  {
   "cell_type": "code",
   "execution_count": 61,
   "id": "alternate-google",
   "metadata": {},
   "outputs": [
    {
     "name": "stdout",
     "output_type": "stream",
     "text": [
      "[0.341 0.246 0.413]\n"
     ]
    }
   ],
   "source": [
    "p3 = np.dot(p2, A)\n",
    "print(p3)"
   ]
  },
  {
   "cell_type": "markdown",
   "id": "visible-madonna",
   "metadata": {},
   "source": [
    "如果存在一个平衡态，则应该有：\n",
    "\n",
    "$$p A = p$$\n",
    "\n",
    "回忆线性代数课程中学过的**特征值**和**特征向量**：\n",
    "\n",
    "$$A v = \\lambda v$$\n",
    "\n",
    "假设$\\lambda=1$，并交换乘法顺序，则可以把$p$视为$A$的“左”特征向量，且特征值为1。并且$p$满足：\n",
    "\n",
    "$$p_1+p_2+p_3=1$$\n",
    "\n",
    "求解方程组为：\n",
    "\n",
    "$$\n",
    "\\begin{cases}\n",
    "0.2 p_1+0.3 p_2+0.5 p_3 = p_1\\\\\n",
    "0.6 p_1 = p_2\\\\\n",
    "0.2 p_1+0.7 p_2+0.5 p_3 = p_3\\\\\n",
    "p_1+p_2+p_3 = 1\n",
    "\\end{cases}\n",
    "$$"
   ]
  },
  {
   "cell_type": "code",
   "execution_count": 65,
   "id": "natural-employee",
   "metadata": {},
   "outputs": [
    {
     "name": "stdout",
     "output_type": "stream",
     "text": [
      "(array([0.35211268, 0.21126761, 0.43661972]), array([3.15622697e-33]), 3, array([1.7954909 , 1.38483618, 0.98916186]))\n"
     ]
    },
    {
     "name": "stderr",
     "output_type": "stream",
     "text": [
      "/opt/anaconda3/lib/python3.7/site-packages/ipykernel_launcher.py:5: FutureWarning: `rcond` parameter will change to the default of machine precision times ``max(M, N)`` where M and N are the input matrix dimensions.\n",
      "To use the future default and silence this warning we advise to pass `rcond=None`, to keep using the old, explicitly pass `rcond=-1`.\n",
      "  \"\"\"\n"
     ]
    }
   ],
   "source": [
    "import numpy as np\n",
    "\n",
    "M = np.array([[-0.8, 0.3, 0.5], [0.6, -1, 0], [0.2, 0.7, -0.5], [1, 1, 1]])\n",
    "b = np.array([0, 0, 0, 1])\n",
    "\n",
    "# since the equations are over-determined\n",
    "# we cannot use linalg.solve method\n",
    "print(np.linalg.lstsq(M, b))"
   ]
  },
  {
   "cell_type": "markdown",
   "id": "mexican-alberta",
   "metadata": {},
   "source": [
    "结果为$p=[0.352,\\ 0.21127,\\ 0.43662]$，与之前随机游走的结果$[0.35051,\\ 0.21187,\\ 0.43762]$比较接近。"
   ]
  },
  {
   "cell_type": "markdown",
   "id": "advised-excellence",
   "metadata": {},
   "source": [
    "## 瞬态(Transient State)、循环态(Recurrence State)\n",
    "\n",
    "<img src=\"./images/reducible_states.jpg\" width=600/>\n",
    "\n",
    "0: Transient State\n",
    "\n",
    "1, 2: Recurrence State\n",
    "\n",
    "因为从状态 1 或者 2 无法回到状态 0 ，因此这个马尔可夫链是Reducible；下面这个链接则是Irreducible：\n",
    "\n",
    "<img src=\"./images/irreducible_states.jpg\" width=600/>"
   ]
  },
  {
   "cell_type": "markdown",
   "id": "alert-stanford",
   "metadata": {},
   "source": [
    "## Classes\n",
    "\n",
    "<img src=\"./images/classes.jpg\" width=600/>"
   ]
  },
  {
   "cell_type": "markdown",
   "id": "alive-birmingham",
   "metadata": {},
   "source": [
    "## n-step Transition Matrix\n",
    "\n",
    "有以下马尔可夫链：\n",
    "\n",
    "<img src=\"./images/transition_matrix.jpg\" width=600/>\n",
    "\n",
    "其相邻矩阵为：\n",
    "\n",
    "$$\n",
    "A=\\begin{bmatrix}\n",
    "0.5 & 0.2 & 0.3\\\\\n",
    "0.6 & 0.2 & 0.2\\\\\n",
    "0.1 & 0.8 & 0.1\n",
    "\\end{bmatrix}\n",
    "$$\n",
    "\n",
    "问题：从状态 $i$ 到状态 $j$ **正好**经过 $n$ 步的概率 $P_{ij}(n)$ 是多少？\n",
    "\n",
    "例如，从状态 0 到状态 2 正好经过 1 步的概率 $P_{02}(1)$ ，结果为 $A_{02}=0.3$。\n",
    "\n",
    "所以当步数为 1 的时候有：$P_{ij}(1)=A_{ij}$。\n",
    "\n",
    "如果步数为 2 呢？\n",
    "\n",
    "$$\n",
    "\\begin{aligned}\n",
    "P_{02}(2) &= A_{00}\\times A_{02}+A_{01}\\times A_{12}+A_{02}\\times A_{22}\\\\\n",
    "&= 0.5\\times0.3+0.2\\times0.2+0.3\\times0.1\\\\\n",
    "&= 0.22\n",
    "\\end{aligned}\n",
    "$$\n",
    "\n",
    "可以将上面的式子改写为：\n",
    "\n",
    "$$\n",
    "\\begin{aligned}\n",
    "P_{02}(2) &= A_{00}\\times A_{02}+A_{01}\\times A_{12}+A_{02}\\times A_{22}\\\\\n",
    "&=[A_{00}\\quad A_{01}\\quad A_{02}]\\times\\begin{bmatrix}\n",
    "A_{02}\\\\\n",
    "A_{12}\\\\\n",
    "A_{22}\n",
    "\\end{bmatrix}\n",
    "\\end{aligned}\n",
    "$$\n",
    "\n",
    "这是个巧合吗？我们再看一个情况：\n",
    "\n",
    "$$\n",
    "\\begin{aligned}\n",
    "P_{10}(2) &= A_{10}\\times A_{00}+A_{11}\\times A_{10}+A_{12}\\times A_{20}\\\\\n",
    "&=[A_{10}\\quad A_{11}\\quad A_{12}]\\times\\begin{bmatrix}\n",
    "A_{00}\\\\\n",
    "A_{10}\\\\\n",
    "A_{20}\n",
    "\\end{bmatrix}\n",
    "\\end{aligned}\n",
    "$$\n",
    "\n",
    "这就是矩阵乘法！\n",
    "\n",
    "$$\n",
    "A^2=\\begin{bmatrix}\n",
    "0.5 & 0.2 & 0.3\\\\\n",
    "0.6 & 0.2 & 0.2\\\\\n",
    "0.1 & 0.8 & 0.1\n",
    "\\end{bmatrix}\\times\n",
    "\\begin{bmatrix}\n",
    "0.5 & 0.2 & 0.3\\\\\n",
    "0.6 & 0.2 & 0.2\\\\\n",
    "0.1 & 0.8 & 0.1\n",
    "\\end{bmatrix}=\n",
    "\\begin{bmatrix}\n",
    "0.40 & 0.38 & 0.22\\\\\n",
    "0.44 & 0.32 & 0.24\\\\\n",
    "0.54 & 0.26 & 0.20\n",
    "\\end{bmatrix}\n",
    "$$\n",
    "\n",
    "$$\n",
    "\\begin{array}{c}\n",
    "P_{ij}(2)=A^2_{ij}\\\\\n",
    "P_{ij}(3)=A^3_{ij}\\\\\n",
    "P_{ij}(4)=A^4_{ij}\\\\\n",
    "\\cdots\\\\\n",
    "P_{ij}(n)=A^n_{ij}\n",
    "\\end{array}\n",
    "$$"
   ]
  },
  {
   "cell_type": "code",
   "execution_count": 73,
   "id": "traditional-harvest",
   "metadata": {},
   "outputs": [
    {
     "data": {
      "text/plain": [
       "array([[0.4 , 0.38, 0.22],\n",
       "       [0.44, 0.32, 0.24],\n",
       "       [0.54, 0.26, 0.2 ]])"
      ]
     },
     "execution_count": 73,
     "metadata": {},
     "output_type": "execute_result"
    }
   ],
   "source": [
    "import numpy as np\n",
    "\n",
    "A = np.array([[0.5, 0.2, 0.3], [0.6, 0.2, 0.2], [0.1, 0.8, 0.1]])\n",
    "np.dot(A, A)"
   ]
  },
  {
   "cell_type": "code",
   "execution_count": 74,
   "id": "overall-cooperation",
   "metadata": {},
   "outputs": [
    {
     "data": {
      "text/plain": [
       "array([[0.4 , 0.38, 0.22],\n",
       "       [0.44, 0.32, 0.24],\n",
       "       [0.54, 0.26, 0.2 ]])"
      ]
     },
     "execution_count": 74,
     "metadata": {},
     "output_type": "execute_result"
    }
   ],
   "source": [
    "# alternatively\n",
    "\n",
    "np.linalg.matrix_power(A, 2)"
   ]
  },
  {
   "cell_type": "markdown",
   "id": "accepting-knock",
   "metadata": {},
   "source": [
    "更高效的算法 —— Chapman-Kolmogorov Theorem\n",
    "\n",
    "$$P_{ij}(n)=\\sum_k P_{ik}(r)\\times P_{kj}(n-r)$$\n",
    "\n",
    "例如：$P_{02}(2)=P_{00}(1)\\times P_{02}(1)+P_{01}(1)\\times P_{12}(1)+P_{02}(1)\\times P_{22}(1)$\n",
    "\n",
    "平稳态概率分布也可以通过求下面的极限获得：\n",
    "\n",
    "$$\\lim_{n->\\infty}A^n$$"
   ]
  },
  {
   "cell_type": "code",
   "execution_count": 86,
   "id": "manufactured-twenty",
   "metadata": {},
   "outputs": [
    {
     "name": "stdout",
     "output_type": "stream",
     "text": [
      "[[ 0.444444  0.333333  0.222222]\n",
      " [ 0.444444  0.333333  0.222222]\n",
      " [ 0.444444  0.333333  0.222222]]"
     ]
    }
   ],
   "source": [
    "import time\n",
    "import numpy as np\n",
    "from IPython.display import clear_output\n",
    "\n",
    "np.set_printoptions(formatter={'float': '{: 0.6f}'.format})\n",
    "\n",
    "for n in range(15):\n",
    "    clear_output(wait=True)\n",
    "    print(np.linalg.matrix_power(A, n), end='')\n",
    "    time.sleep(0.3)"
   ]
  },
  {
   "cell_type": "markdown",
   "id": "liquid-upgrade",
   "metadata": {},
   "source": [
    "$A_{ij}^\\infty=P_{ij}^\\infty$是从 i 开始通过无限多步到达 j 的概率。 "
   ]
  },
  {
   "cell_type": "markdown",
   "id": "incredible-clinic",
   "metadata": {},
   "source": [
    "# 用马尔可夫链生成福尔摩斯小说\n",
    "\n",
    "MC = {States, Transitions}\n",
    "\n",
    "在文本生成问题中，States就是不同的单词。从单词 i 到单词 j 的转移概率为：\n",
    "\n",
    "$$P_{ij}=P(n+1^{th}\\ word=j\\ |\\ n^{th}\\ word=i)$$\n",
    "\n",
    "考虑下面一段话（摘自《夏洛克·福尔摩斯》）：\n",
    "\n",
    "\"My name is Sherlock Holmes. It is my business to know what other people do not know\"\n",
    "\n",
    "单词之间的联系如下图所示：\n",
    "\n",
    "<img src=\"./images/sherlock.jpg\" width=600/>\n",
    "\n",
    "因为文本很短，所以每个单词的联系都只出现一次。概率也很简单：\n",
    "\n",
    "<img src=\"./images/sherlock_MC.jpg\" width=600/>\n",
    "\n",
    "如何生成文本呢？从任意一个单词开始，随机游走，按概率预测下一个单词。"
   ]
  },
  {
   "cell_type": "code",
   "execution_count": 3,
   "id": "invisible-emperor",
   "metadata": {},
   "outputs": [
    {
     "data": {
      "text/plain": [
       "'/Users/niujie/Documents/2021水环境动力学/2021_Water_Environment_Dynamics'"
      ]
     },
     "execution_count": 3,
     "metadata": {},
     "output_type": "execute_result"
    }
   ],
   "source": [
    "import numpy as np\n",
    "import pandas as pd\n",
    "import os\n",
    "import re\n",
    "import string\n",
    "from nltk.tokenize import word_tokenize\n",
    "from nltk.corpus import stopwords\n",
    "import random"
   ]
  },
  {
   "cell_type": "code",
   "execution_count": 5,
   "id": "neither-dayton",
   "metadata": {},
   "outputs": [
    {
     "name": "stdout",
     "output_type": "stream",
     "text": [
      "number of lines =  215021\n"
     ]
    }
   ],
   "source": [
    "# read the story\n",
    "story_path = \"./data/sherlock/\"\n",
    "\n",
    "def read_all_stories(story_path):\n",
    "    txt = []\n",
    "    for _, _, files in os.walk(story_path):\n",
    "        for file in files:\n",
    "            with open(story_path + file) as f:\n",
    "                for line in f:\n",
    "                    line = line.strip()\n",
    "                    if line=='----------': break\n",
    "                    if line != '': txt.append(line)\n",
    "    return txt\n",
    "\n",
    "stories = read_all_stories(story_path)\n",
    "print(\"number of lines = \", len(stories))"
   ]
  },
  {
   "cell_type": "code",
   "execution_count": 6,
   "id": "suffering-attraction",
   "metadata": {},
   "outputs": [
    {
     "name": "stdout",
     "output_type": "stream",
     "text": [
      "100.000%number of words =  2332247\n"
     ]
    }
   ],
   "source": [
    "from IPython.display import clear_output\n",
    "\n",
    "# clean the text\n",
    "def clean_txt(txt):\n",
    "    cleaned_txt = []\n",
    "    i = 0\n",
    "    for line in txt:\n",
    "        i += 1\n",
    "        clear_output(wait=True)\n",
    "        print(\"{:.3f}%\".format(i/len(txt)*100), end='')\n",
    "        \n",
    "        line = line.lower()\n",
    "        line = re.sub(r\"[,.\\\"\\'!@#$%^&*(){}?/;`~:<>+=-\\\\]\", \"\", line)\n",
    "        tokens = word_tokenize(line)\n",
    "        words = [word for word in tokens if word.isalpha()]\n",
    "        cleaned_txt += words\n",
    "    return cleaned_txt\n",
    "\n",
    "cleaned_stories = clean_txt(stories)\n",
    "print(\"\\n number of words = \", len(cleaned_stories))"
   ]
  },
  {
   "cell_type": "code",
   "execution_count": 7,
   "id": "eastern-ratio",
   "metadata": {},
   "outputs": [],
   "source": [
    "# create the Markov Model\n",
    "def make_markov_model(cleaned_stories, n_gram=2):\n",
    "    markov_model = {}\n",
    "    for i in range(len(cleaned_stories) - n_gram - 1):\n",
    "        curr_state, next_state = \"\", \"\"\n",
    "        for j in range(n_gram):\n",
    "            curr_state += cleaned_stories[i + j] + \" \"\n",
    "            next_state += cleaned_stories[i + j + n_gram] + \" \"\n",
    "        curr_state = curr_state[:-1]\n",
    "        next_state = next_state[:-1]\n",
    "        if curr_state not in markov_model:\n",
    "            markov_model[curr_state] = {}\n",
    "            markov_model[curr_state][next_state] = 1\n",
    "        else:\n",
    "            if next_state in markov_model[curr_state]:\n",
    "                markov_model[curr_state][next_state] += 1\n",
    "            else:\n",
    "                markov_model[curr_state][next_state] = 1\n",
    "    \n",
    "    # calculating transition probabilities\n",
    "    for curr_state, transition in markov_model.items():\n",
    "        total = sum(transition.values())\n",
    "        for state, count in transition.items():\n",
    "            markov_model[curr_state][state] = count / total\n",
    "    \n",
    "    return markov_model"
   ]
  },
  {
   "cell_type": "code",
   "execution_count": 8,
   "id": "binary-senator",
   "metadata": {},
   "outputs": [],
   "source": [
    "markov_model = make_markov_model(cleaned_stories)"
   ]
  },
  {
   "cell_type": "code",
   "execution_count": 9,
   "id": "sorted-argentina",
   "metadata": {},
   "outputs": [
    {
     "name": "stdout",
     "output_type": "stream",
     "text": [
      "number of states =  208717\n"
     ]
    }
   ],
   "source": [
    "print(\"number of states = \", len(markov_model.keys()))"
   ]
  },
  {
   "cell_type": "code",
   "execution_count": 10,
   "id": "infinite-gazette",
   "metadata": {},
   "outputs": [
    {
     "name": "stdout",
     "output_type": "stream",
     "text": [
      "All possible transitions from 'the game' state: \n",
      "\n",
      "{'is up': 0.06306306306306306, 'is and': 0.036036036036036036, 'was afoot': 0.036036036036036036, 'for the': 0.036036036036036036, 'was whist': 0.036036036036036036, 'would have': 0.036036036036036036, 'in their': 0.036036036036036036, 'was up': 0.09009009009009009, 'in that': 0.036036036036036036, 'the lack': 0.036036036036036036, 'for all': 0.06306306306306306, 'is afoot': 0.036036036036036036, 'was in': 0.02702702702702703, 'is hardly': 0.02702702702702703, 'may wander': 0.02702702702702703, 'now a': 0.02702702702702703, 'my own': 0.02702702702702703, 'at any': 0.02702702702702703, 'mr holmes': 0.02702702702702703, 'ay whats': 0.02702702702702703, 'my friend': 0.02702702702702703, 'fairly by': 0.02702702702702703, 'is not': 0.02702702702702703, 'was not': 0.02702702702702703, 'worth it': 0.02702702702702703, 'you are': 0.02702702702702703, 'i am': 0.02702702702702703, 'now count': 0.02702702702702703, 'your letter': 0.02702702702702703}\n"
     ]
    }
   ],
   "source": [
    "print(\"All possible transitions from 'the game' state: \\n\")\n",
    "print(markov_model['the game'])"
   ]
  },
  {
   "cell_type": "code",
   "execution_count": 27,
   "id": "indian-seeking",
   "metadata": {},
   "outputs": [],
   "source": [
    "# generate Sherlock Holmes stories!\n",
    "\n",
    "def generate_story(markov_model, limit=100, start='my god'):\n",
    "    n = 0\n",
    "    curr_state = start\n",
    "    next_state = None\n",
    "    story = \"\"\n",
    "    story += curr_state + \" \"\n",
    "    while n < limit:\n",
    "        next_state = random.choices(list(markov_model[curr_state].keys()),\n",
    "                                   list(markov_model[curr_state].values()))\n",
    "        \n",
    "        curr_state = next_state[0]\n",
    "        story += curr_state + \" \"\n",
    "        n += 1\n",
    "    return story"
   ]
  },
  {
   "cell_type": "code",
   "execution_count": 28,
   "id": "pregnant-settle",
   "metadata": {},
   "outputs": [
    {
     "name": "stdout",
     "output_type": "stream",
     "text": [
      "0.  dear holmes i ejaculated no for my steve you are not the mark of the bicycle i objected \n",
      "1.  dear holmes my previous letters and poured them all into the fire mr baker it is for me \n",
      "2.  dear holmes said i i am so glad you have drawn a letter from a in his hand \n",
      "3.  dear holmes i thought that i shall be back before three i entered and many a long year \n",
      "4.  dear holmes what do you mean to say no further clue in the evening with the loss of \n",
      "5.  dear holmes you are at liberty to act on the aurora i am sure that you should be \n",
      "6.  dear holmes my previous letters and no marking upon the millionaires face was fiendish in its gentle balm \n",
      "7.  dear holmes oh yes no doubt sir that you were taking the queens shilling and joining the buffs \n",
      "8.  dear holmes said i i have no orders you know my method it is certain that the news \n",
      "9.  dear holmes oh yes i know that in his more astute comrade may fill the stage by letting \n",
      "10.  dear holmes i exclaimed perhaps one of those bulky boxes which have amounted to frenzy it is conjectured \n",
      "11.  dear holmes i fear that you were in an illiterate handwriting if he answered the very instant that \n",
      "12.  dear holmes if i am mcmurdo answered in a moment so quickly that it was upon their track \n",
      "13.  dear holmes i ejaculated no for my steve you are right mr hayes no harm meant said holmes \n",
      "14.  dear holmes i ejaculated precisely so said mr wilson never was such an offer seemed almost too good \n",
      "15.  dear holmes he has one positive virtue he is as much as my own end we have now \n",
      "16.  dear holmes if i do said mcmurdo then why did they fly there is only one of those \n",
      "17.  dear holmes he has liquor and good pay why should he fear a trap oh it was awful \n",
      "18.  dear holmes oh yes i should break the line my remembrance of the journey was a man with \n",
      "19.  dear holmes said i suppose you know what i could this was what mcmurdo whispered to his neighbour \n"
     ]
    }
   ],
   "source": [
    "for i in range(20):\n",
    "    print(str(i) + '. ', generate_story(markov_model, start=\"dear holmes\", limit=8))"
   ]
  },
  {
   "cell_type": "code",
   "execution_count": 29,
   "id": "engaged-trust",
   "metadata": {},
   "outputs": [
    {
     "name": "stdout",
     "output_type": "stream",
     "text": [
      "0.  my dear friend stood i know but a promise of the spring of the past while their prisoner \n",
      "1.  my dear sir cried dr mortimer but to have it for all men so when he horsewhipped sam \n",
      "2.  my dear watson with the i walked round it and none had fallen since the evening papers in \n",
      "3.  my dear fellow you will need will be a temporary convenience until his new client he only comes \n",
      "4.  my dear sir please do what he liked best to make up your mind the bicycle said he \n",
      "5.  my dear holmes i introduced him in a moment however all my life i bought this estate which \n",
      "6.  my dear fellow you see exactly the same time have an ample and crushing revenge upon his old \n",
      "7.  my dear holmes he has however retained some degree of low cunning but i find that the door \n",
      "8.  my dear watson the torn bird the pail of blood coincided with the track as one who has \n",
      "9.  my dear watson but this is thursday morning why didnt you go into this matter he said he \n",
      "10.  my dear watson theres my report will be handed over to the right among the laurels we might \n",
      "11.  my dear fellow is driving at once to break away from her hand too late she began and \n",
      "12.  my dear watson i suppose you havent such a thing which i understand that before we get to \n",
      "13.  my dear watson remember that i may be so bold a game with me all will be in \n",
      "14.  my dear watson how pleased i was at least twenty feet however and a thermometer of was no \n",
      "15.  my dear lady you could no longer see them all i managed to satisfy the demands of justice \n",
      "16.  my dear sir cried the king had stretched out my notebook and scribbled a note to the effect \n",
      "17.  my dear watson is a most remarkable bird it proved i dont want you to go on to \n",
      "18.  my dear watson do my eyes over it two dark figures upon her deck one man that he \n",
      "19.  my dear boy it was simplicity itself i walked back i was thunderstruck at this for the latter \n"
     ]
    }
   ],
   "source": [
    "for i in range(20):\n",
    "    print(str(i) + '. ', generate_story(markov_model, start=\"my dear\", limit=8))"
   ]
  },
  {
   "cell_type": "code",
   "execution_count": 30,
   "id": "oriental-request",
   "metadata": {},
   "outputs": [
    {
     "name": "stdout",
     "output_type": "stream",
     "text": [
      "0.  i would have waited among the trees we had reached our house in baker street for dinner only \n",
      "1.  i would only return etc the good steiler assured me kept to his task and never upon any \n",
      "2.  i would not he was murdered two nights later i backed a bill for my information theres ten \n",
      "3.  i would rather have tobys help than that which was examined within a few trifling points might perhaps \n",
      "4.  i would ask then leave it in the spring through the venezuelan loan as no doubt it was \n",
      "5.  i would not i who killed the young man had been murdered by her only child took after \n",
      "6.  i would not have been blown to the policeman holmes sat up with her during the last few \n",
      "7.  i would offer you a beggarly five hundred cases of interest in which i held in his hand \n",
      "8.  i would always be made clear pray question me about last night they could see the body at \n",
      "9.  i would give one thought to myself or bringing anyone else to go upon theres plenty of thread \n",
      "10.  i would only ask you not the bearing and deportment of a horses ham and to know how \n",
      "11.  i would willingly give five hundred miles to the eastward over the fire the bare sight of me \n",
      "12.  i would leave him harmless for the future and his own powerlessness to prevent the crime splendid we \n",
      "13.  i would sooner have a savage assault upon the old reprobate with the surplice burst into a hearty \n",
      "14.  i would come to murder you i should be very obtuse holmes but i could have nothing to \n",
      "15.  i would rather have our small stage at baker street is one of several friends tends to show \n",
      "16.  i would have told you of first turned his mind and that we must accept your terms mr \n",
      "17.  i would come to an end and irene adler threatens to send a message waiting that we just \n",
      "18.  i would not have detained him all the little excitements connected with the marriage celebrated so quietly was \n",
      "19.  i would keep it out of the house but holmes said that he was at the until he \n"
     ]
    }
   ],
   "source": [
    "for i in range(20):\n",
    "    print(str(i) + '. ', generate_story(markov_model, start=\"i would\", limit=8))"
   ]
  },
  {
   "cell_type": "code",
   "execution_count": 32,
   "id": "classical-interim",
   "metadata": {},
   "outputs": [
    {
     "name": "stdout",
     "output_type": "stream",
     "text": [
      "the case complete you had heard the narrative before my eyes and the twitchings of his eyebrows my heart turned as heavy as lead within me i stammered you must leave it to your annals my dear watson that you hound and there also the marks but two months ago theresa wright is her maid carrie evans she has been to give him an ideal agent for gaining information it was to become of my father and me she said thawed her into a for me and i gazed at it in that way has escaped there is so keen upon looking up ralph smiths relations one more dim light which enabled him to look after it i feel it in my journal and the public and it is inconceivable that it must have been dead this thirty years henry said she my husband into his extraordinary statement i am fairly justified in my pocket and was gone no interference upon our way a most singular he murmured pointing to a huge vault or cellar which was piled with dishes and dirty with a smile i do not know how i can make neither head nor tail of it dont you think \n"
     ]
    }
   ],
   "source": [
    "print(generate_story(markov_model, start=\"the case\", limit=100))"
   ]
  },
  {
   "cell_type": "markdown",
   "id": "interesting-universal",
   "metadata": {},
   "source": [
    "# Hidden Markov Model\n",
    "\n",
    "假设天气的条件转移概率如下：\n",
    "\n",
    "<img src=\"./images/weather.jpg\" width=600/>\n",
    "\n",
    "天气状况与人的情绪有如下关系：\n",
    "\n",
    "<img src=\"./images/weather_mood.jpg\" width=600/>\n",
    "\n",
    "假设我们不知道天气状况，但可以通过某种方式知道人的情绪，那么关于天气的马尔可夫链就处于**hidden states**。\n",
    "\n",
    "HMM = Hidden MC + Observed Variables\n",
    "\n",
    "矩阵形式：\n",
    "\n",
    "<img src=\"./images/weather_mood_matrix.jpg\" width=600/>\n",
    "\n",
    "假设有如下状态（我们不知道天气状况，只是假设）：\n",
    "\n",
    "<img src=\"./images/weather_mood_situ.jpg\" width=600/>\n",
    "\n",
    "问题：这种情形发生的概率是多少？\n",
    "\n",
    "$$\n",
    "P(Y=\\{happy,\\ happy,\\ sad\\},\\ X=\\{sunny,\\ cloudy,\\ sunny\\})\n",
    "$$\n",
    "\n",
    "需要考虑以下概率：\n",
    "\n",
    "$$\n",
    "P(X_1=sunny)=?\\quad P(Y_1=happy\\ |\\ X_1=sunny)=0.8\\\\\n",
    "P(X_2=cloudy\\ |\\ X_1=sunny)=0.3\\quad P(Y_2=happy\\ |\\ X_2=cloudy)=0.4\\\\\n",
    "P(X_3=sunny\\ |\\ X_2=cloudy)=0.4\\quad P(Y_3=sad\\ |\\ X_3=sunny)=0.2\n",
    "$$\n",
    "\n",
    "其中$P(X_1=sunny)=?$的计算需要用到平稳态概率。\n",
    "\n",
    "$$p A=p$$"
   ]
  },
  {
   "cell_type": "code",
   "execution_count": 5,
   "id": "consecutive-doctor",
   "metadata": {},
   "outputs": [
    {
     "name": "stdout",
     "output_type": "stream",
     "text": [
      "(array([0.21818182, 0.27272727, 0.50909091]), array([1.4792293e-34]), 3, array([1.74899374, 1.10331964, 0.49366656]))\n"
     ]
    },
    {
     "name": "stderr",
     "output_type": "stream",
     "text": [
      "/opt/anaconda3/lib/python3.7/site-packages/ipykernel_launcher.py:8: FutureWarning: `rcond` parameter will change to the default of machine precision times ``max(M, N)`` where M and N are the input matrix dimensions.\n",
      "To use the future default and silence this warning we advise to pass `rcond=None`, to keep using the old, explicitly pass `rcond=-1`.\n",
      "  \n"
     ]
    }
   ],
   "source": [
    "import numpy as np\n",
    "\n",
    "A = np.array([[-0.5, 0.4, 0.0], [0.3, -0.8, 0.3], [0.2, 0.4, -0.3], [1, 1, 1]])\n",
    "b = np.array([0, 0, 0, 1])\n",
    "\n",
    "# since the equations are over-determined\n",
    "# we cannot use linalg.solve method\n",
    "print(np.linalg.lstsq(A, b))"
   ]
  },
  {
   "cell_type": "markdown",
   "id": "comparable-smile",
   "metadata": {},
   "source": [
    "平稳态概率是$[0.218,\\ 0.273,\\ 0.509]$，所以$P(X_1=sunny)=0.509$。上述情形发生概率为：\n",
    "\n",
    "$$0.509\\times0.8\\times0.3\\times0.4\\times0.4\\times0.2=0.00391$$\n",
    "\n",
    "现在隐藏天气，问：给定这样的情绪序列，最有可能的天气序列是什么？"
   ]
  },
  {
   "cell_type": "code",
   "execution_count": 13,
   "id": "measured-mozambique",
   "metadata": {},
   "outputs": [
    {
     "name": "stdout",
     "output_type": "stream",
     "text": [
      "0.04105309098239999\n",
      "[2, 2, 1]\n"
     ]
    }
   ],
   "source": [
    "A = np.array([[0.5, 0.3, 0.2], [0.4, 0.2, 0.4], [0.0, 0.3, 0.7]])  # weather\n",
    "B = np.array([[0.9, 0.1], [0.6, 0.4], [0.2, 0.8]])  # mood\n",
    "s = np.array([0.21818182, 0.27272727, 0.50909091])  # stationary\n",
    "\n",
    "p = 0\n",
    "seq = []\n",
    "for i in range(3):\n",
    "    for j in range(3):\n",
    "        for k in range(3):\n",
    "            tmp = s[i] * B[i, 1] * A[i, j] * B[j, 1] * A[j, k] * B[k, 0]\n",
    "            if tmp > p:\n",
    "                p = tmp\n",
    "                seq = [i, j, k]\n",
    "\n",
    "print(p)\n",
    "print(seq)"
   ]
  },
  {
   "cell_type": "markdown",
   "id": "hydraulic-research",
   "metadata": {},
   "source": [
    "\\[2, 2, 1\\] 是指：晴天 -> 晴天 -> 多云\n",
    "\n",
    "将问题转化为数学表达式：\n",
    "\n",
    "$$\\underset{X=X_1,X_2,\\dots,X_n}{argmax}P(X=X_1,X_2,\\dots,X_n\\ |\\ Y=Y_1,Y_2,\\dots,Y_n)$$\n",
    "\n",
    "这个概率无法直接计算，但可以通过贝叶斯公式：\n",
    "\n",
    "$\\underset{X=X_1,X_2,\\dots,X_n}{argmax}\\frac{P(Y|X)P(X)}{P(Y)}$\n",
    "\n",
    "$\\begin{aligned}\n",
    "P(Y|X)&=P(Y_1|X_1)\\times P(Y_2|X_2)\\times\\dots\\times P(Y_n|X_1)\\\\\n",
    "&=\\prod P(Y_i|X_i)\n",
    "\\end{aligned}$\n",
    "\n",
    "$P(X)=\\prod P(X_i|X_{i-1})$\n",
    "\n",
    "代回原式有：\n",
    "\n",
    "$\\underset{X=X_1,X_2,\\dots,X_n}{argmax}\\prod P(Y_i|X_i)P(X_i|X_{i-1})$\n",
    "\n",
    "与之前的连乘运算一致！"
   ]
  },
  {
   "cell_type": "markdown",
   "id": "genetic-debut",
   "metadata": {},
   "source": [
    "# Hidden Markov Model - Forward Algorithm\n",
    "\n",
    "<img src=\"./images/weather_mood_forward.jpg\" width=600/>\n",
    "\n",
    "$A=\n",
    "\\begin{bmatrix}\n",
    "0.5 & 0.5\\\\\n",
    "0.3 & 0.7\n",
    "\\end{bmatrix}\n",
    "$\n",
    "\n",
    "$\n",
    "B=\n",
    "\\begin{bmatrix}\n",
    "0.8 & 0.2\\\\\n",
    "0.4 & 0.6\n",
    "\\end{bmatrix}\n",
    "$\n",
    "\n",
    "计算平稳态概率分布："
   ]
  },
  {
   "cell_type": "code",
   "execution_count": 2,
   "id": "eligible-manitoba",
   "metadata": {},
   "outputs": [
    {
     "name": "stdout",
     "output_type": "stream",
     "text": [
      "(array([0.375, 0.625]), array([1.23259516e-32]), 2, array([1.43459155, 0.78863621]))\n"
     ]
    },
    {
     "name": "stderr",
     "output_type": "stream",
     "text": [
      "/opt/anaconda3/lib/python3.7/site-packages/ipykernel_launcher.py:8: FutureWarning: `rcond` parameter will change to the default of machine precision times ``max(M, N)`` where M and N are the input matrix dimensions.\n",
      "To use the future default and silence this warning we advise to pass `rcond=None`, to keep using the old, explicitly pass `rcond=-1`.\n",
      "  \n"
     ]
    }
   ],
   "source": [
    "import numpy as np\n",
    "\n",
    "M = np.array([[0.5-1, 0.3], [0.5, 0.7-1], [1, 1]])\n",
    "b = np.array([0, 0, 1])\n",
    "\n",
    "# since the equations are over-determined\n",
    "# we cannot use linalg.solve method\n",
    "print(np.linalg.lstsq(M, b))"
   ]
  },
  {
   "cell_type": "markdown",
   "id": "overall-california",
   "metadata": {},
   "source": [
    "$p=[0.375, 0.625]$\n",
    "\n",
    "已知情绪的序列为：sad -> sad -> happy\n",
    "\n",
    "问：根据给出的HMM的参数，出现这种情绪序列的概率是多少？\n",
    "\n",
    "$P(mood=\\{sad,sad,happy\\})=?$\n",
    "\n",
    "用$Y$代表情绪，$Y_0$代表sad，$Y_1$代表happy，则数学表达式为：\n",
    "\n",
    "$P(Y=\\{Y_0,Y_0,Y_1\\})=?$\n",
    "\n",
    "假设如下情形：\n",
    "\n",
    "rainy -> sunny -> sunny\n",
    "  |        |        |\n",
    " sad  ->  sad  -> happy\n",
    " \n",
    " 用$X_0$代表rainy，$X_1$代表sunny，则有：\n",
    " \n",
    " $$\n",
    " \\begin{aligned}\n",
    " P(Y=\\{Y_0,Y_0,Y_1\\})&=P(X_0)\\ P(Y_0|X_0)\\ P(X_1|X_0)\\ P(Y_0|X_1)\\ P(X_1|X_1)\\ P(Y_1|X_1)\\\\\n",
    " &=0.375\\times0.8\\times0.5\\times0.4\\times0.7\\times0.6\\\\\n",
    " &=\n",
    " \\end{aligned}\n",
    " $$"
   ]
  },
  {
   "cell_type": "code",
   "execution_count": 3,
   "id": "interested-animal",
   "metadata": {},
   "outputs": [
    {
     "data": {
      "text/plain": [
       "0.0252"
      ]
     },
     "execution_count": 3,
     "metadata": {},
     "output_type": "execute_result"
    }
   ],
   "source": [
    "0.375 * 0.8 * 0.5 * 0.4 * 0.7 * 0.6"
   ]
  },
  {
   "cell_type": "markdown",
   "id": "national-ghost",
   "metadata": {},
   "source": [
    "一共有多少种天气排列顺序呢？很明显，$2^3=8$ 种。所有 8 种概率计算式如下：\n",
    "\n",
    "$$\n",
    "P(X_0)\\ P(Y_0|X_0)\\ P(X_0|X_0)\\ P(Y_0|X_0)\\ P(X_0|X_0)\\ P(Y_1|X_0)\\\\\n",
    "P(X_0)\\ P(Y_0|X_0)\\ P(X_0|X_0)\\ P(Y_0|X_0)\\ P(X_1|X_0)\\ P(Y_1|X_1)\\\\\n",
    "P(X_0)\\ P(Y_0|X_0)\\ P(X_1|X_0)\\ P(Y_0|X_1)\\ P(X_0|X_1)\\ P(Y_1|X_0)\\\\\n",
    "P(X_0)\\ P(Y_0|X_0)\\ P(X_1|X_0)\\ P(Y_0|X_1)\\ P(X_1|X_1)\\ P(Y_1|X_1)\\\\\n",
    "P(X_1)\\ P(Y_0|X_1)\\ P(X_0|X_1)\\ P(Y_0|X_0)\\ P(X_0|X_0)\\ P(Y_1|X_0)\\\\\n",
    "P(X_1)\\ P(Y_0|X_1)\\ P(X_0|X_1)\\ P(Y_0|X_0)\\ P(X_1|X_0)\\ P(Y_1|X_1)\\\\\n",
    "P(X_1)\\ P(Y_0|X_1)\\ P(X_1|X_1)\\ P(Y_0|X_1)\\ P(X_0|X_1)\\ P(Y_1|X_0)\\\\\n",
    "P(X_1)\\ P(Y_0|X_1)\\ P(X_1|X_1)\\ P(Y_0|X_1)\\ P(X_1|X_1)\\ P(Y_1|X_1)\\\\\n",
    "$$\n",
    "\n",
    "一个简单情形就有如此大的计算量！\n",
    "\n",
    "$*number\\ of\\ multiplications \\approx 2SN^S$\n",
    "\n",
    "$S$是观测状态序列数量，$N$是隐藏状态数量"
   ]
  },
  {
   "cell_type": "markdown",
   "id": "digital-chocolate",
   "metadata": {},
   "source": [
    "解决的办法是**动态规划**：\n",
    "\n",
    "$P(Y=Y_0,Y_0,Y_1)$可以分为两种情况：\n",
    "\n",
    "- 最后一天rainy，表示为 $\\alpha_3(X_0)$\n",
    "- 最后一天sunny，表示为 $\\alpha_3(X_1)$\n",
    "\n",
    "下标 $3$ 表示观测序列长度为 $3$。\n",
    "\n",
    "```\n",
    "                                       P(Y = Y0, Y0, Y1)\n",
    "                                             |\n",
    "                            |---------------------------------|\n",
    "                            |                                 |\n",
    "                     ?  ->  ?  -> X0                   ?  ->  ?  -> X1\n",
    "              a3(X0) |      |      |            a3(X1) |      |      |\n",
    "                     Y0 ->  Y0 -> Y1                   Y0 ->  Y0 -> Y1\n",
    "                            |                                 |\n",
    "                            |                                 |\n",
    "                    |---------------|                |------------------|\n",
    "                    |               |                |                  |\n",
    "                 ? -> x0         ? -> x1           a2(X0)             a2(X1)\n",
    "          a2(X0) |    |   a2(X1) |    |              |                  |\n",
    "                Y0 -> Y0        Y0    Y0             |                  |\n",
    "                    |               |          |-----------|       |------------|\n",
    "                    |               |          |           |       |            |\n",
    "               |----------|     |--------|   a1(X0)      a1(X1)   a1(X0)      a1(X1)\n",
    "               |          |     |        |\n",
    "               X0         X1  a1(X0)   a1(X1)\n",
    "        a1(X0) |   a1(X1) |\n",
    "               Y0         Y0\n",
    "```\n",
    "\n",
    "$\\alpha_3(X_0)$ 又可以分为两种情况：\n",
    "\n",
    "- 倒数第二天rainy，$\\alpha_2(X_0)$\n",
    "- 倒数第二天sunny，$\\alpha_2(X_1)$\n",
    "\n",
    "$\\alpha_3(X_0)=\\alpha_2(X_0)\\ P(X_0|X_0)\\ P(Y_1|X_0)\\ +\\ \\alpha_2(X_1)\\ P(X_0|X_1)\\ P(Y_1|X_0)$\n",
    "\n",
    "最后，$\\alpha_2(X_0)$ 又可以继续细分为 $\\alpha_1(X_0)$ 和 $\\alpha_1(X_1)$。\n",
    "\n",
    "$\\alpha_2(X_0)=\\alpha_1(X_0)\\ P(X_0|X_0)\\ P(Y_0|X_0)\\ +\\ \\alpha_1(X_1)\\ P(X_0|X_1)\\ P(Y_0|X_1)$\n",
    "\n",
    "而 $\\alpha_1(X_0)=P(X_0)\\ P(Y_0|X_0)$，$\\alpha_1(X_1)=P(X_1)\\ P(Y_0|X_1)$。\n",
    "\n",
    "对于 $\\alpha_2(X_1)$，以及上一层的 $\\alpha_3(X_1)$ 都可以做同样的处理。\n",
    "\n",
    "递归表达式如下：\n",
    "\n",
    "$$\n",
    "\\begin{aligned}\n",
    "\\alpha_t(X_i)\\ &=\\ \\alpha_{t-1}(X_0)\\ P(X_i|X_0)\\ P(Y^t|X_i)\\\\\n",
    "&+\\ \\alpha_{t-1}(X_1)\\ P(X_i|X_1)\\ P(Y^t|X_i)\n",
    "\\end{aligned}\n",
    "$$\n",
    "\n",
    "如果存在多个隐藏态：\n",
    "\n",
    "$\\alpha_t(X_i)\\ =\\ \\sum\\limits_{j=0}^{n-1}\\alpha_{t-1}(X_j)\\ P(X_i|X_j)\\ P(Y^t|X_i)$\n",
    "\n",
    "$\\alpha_1(X_i)\\ =\\ P(X_i)\\ P(Y^0|X_i)$\n",
    "\n",
    "$P(Y^1,Y^2,\\dots,Y^t)\\ =\\ \\sum\\limits_{i=0}^{n-1}\\alpha_{t-1}(X_i)$"
   ]
  },
  {
   "cell_type": "markdown",
   "id": "answering-priority",
   "metadata": {},
   "source": [
    "手动计算如下：\n",
    "\n",
    "$\n",
    "\\begin{aligned}\n",
    "\\alpha_1(X_0)\\ &=\\ P(X_0)\\ P(Y_0|X_0)\\\\\n",
    "&=\\ 0.375\\times0.8\\\\\n",
    "&=\\ 0.3\n",
    "\\end{aligned}\n",
    "$ &emsp; &emsp; $\n",
    "\\begin{aligned}\n",
    "\\alpha_1(X_1)\\ &=\\ P(X_1)\\ P(Y_0|X_1)\\\\\n",
    "&=\\ 0.625\\times0.4\\\\\n",
    "&=\\ 0.25\n",
    "\\end{aligned}\n",
    "$\n",
    "\n",
    "$\n",
    "\\begin{aligned}\n",
    "\\alpha_2(X_0)\\ &=\\ \\alpha_1(X_0)\\ P(X_0|X_0)\\ P(Y_0|X_0)\\ +\\ \\alpha_1(X_1)\\ P(X_0|X_1)\\ P(Y_0|X_0)\\\\\n",
    "&=\\ 0.3\\times0.5\\times0.8+0.25\\times0.3\\times0.8\\\\\n",
    "&=\\ 0.18\n",
    "\\end{aligned}\n",
    "$\n",
    "\n",
    "$\n",
    "\\begin{aligned}\n",
    "\\alpha_2(X_1)\\ &=\\ \\alpha_1(X_0)\\ P(X_1|X_0)\\ P(Y_0|X_1)\\ +\\ \\alpha_1(X_1)\\ P(X_1|X_1)\\ P(Y_0|X_1)\\\\\n",
    "&=\\ 0.3\\times0.5\\times0.4+0.25\\times0.7\\times0.4\\\\\n",
    "&=\\ 0.13\n",
    "\\end{aligned}\n",
    "$\n",
    "\n",
    "$\n",
    "\\begin{aligned}\n",
    "\\alpha_3(X_0)\\ &=\\ \\alpha_2(X_0)\\ P(X_0|X_0)\\ P(Y_1|X_0)\\ +\\ \\alpha_2(X_1)\\ P(X_0|X_1)\\ P(Y_1|X_0)\\\\\n",
    "&=\\ 0.18\\times0.5\\times0.2+0.13\\times0.3\\times0.2\\\\\n",
    "&=\\ 0.0258\n",
    "\\end{aligned}\n",
    "$\n",
    "\n",
    "$\n",
    "\\begin{aligned}\n",
    "\\alpha_3(X_1)\\ &=\\ \\alpha_2(X_0)\\ P(X_1|X_0)\\ P(Y_1|X_1)\\ +\\ \\alpha_2(X_1)\\ P(X_1|X_1)\\ P(Y_1|X_1)\\\\\n",
    "&=\\ 0.18\\times0.5\\times0.6+0.13\\times0.7\\times0.6\\\\\n",
    "&=\\ 0.1086\n",
    "\\end{aligned}\n",
    "$\n",
    "\n",
    "$P(Y=Y_0,Y_0,Y_1)\\ =\\ \\alpha_3(X_0)\\ +\\ \\alpha_3(X_1)\\ =\\ 0.0258\\ +\\ 0.1086\\ =\\ 0.1344$"
   ]
  },
  {
   "source": [
    "## Markov Chains simulated in Python | Stationary Distribution Computation"
   ],
   "cell_type": "markdown",
   "metadata": {}
  },
  {
   "cell_type": "code",
   "execution_count": 1,
   "metadata": {},
   "outputs": [
    {
     "output_type": "execute_result",
     "data": {
      "text/plain": [
       "{0: 'Burger', 1: 'Pizza', 2: 'Hotdog'}"
      ]
     },
     "metadata": {},
     "execution_count": 1
    }
   ],
   "source": [
    "import numpy as np\n",
    "\n",
    "# Burger: 0, Pizza: 1, Hotdog: 2\n",
    "\n",
    "state = {\n",
    "    0 : \"Burger\",\n",
    "    1 : \"Pizza\",\n",
    "    2 : \"Hotdog\"\n",
    "}\n",
    "\n",
    "state"
   ]
  },
  {
   "source": [
    "### Transition Matrix\n",
    "$\n",
    "A=\n",
    "\\begin{bmatrix}\n",
    "0.2 & 0.6 & 0.2 \\\\\n",
    "0.3 & 0 & 0.7 \\\\\n",
    "0.5 & 0 & 0.5\n",
    "\\end{bmatrix}\n",
    "$\n",
    "\n",
    "$A_{ij}=P(X_n=j\\ |\\ X_{n-1}=i)$"
   ],
   "cell_type": "markdown",
   "metadata": {}
  },
  {
   "cell_type": "code",
   "execution_count": 2,
   "metadata": {},
   "outputs": [
    {
     "output_type": "execute_result",
     "data": {
      "text/plain": [
       "array([[0.2, 0.6, 0.2],\n",
       "       [0.3, 0. , 0.7],\n",
       "       [0.5, 0. , 0.5]])"
      ]
     },
     "metadata": {},
     "execution_count": 2
    }
   ],
   "source": [
    "A = np.array([[0.2, 0.6, 0.2], [0.3, 0, 0.7], [0.5, 0, 0.5]])\n",
    "A"
   ]
  },
  {
   "source": [
    "### Random Walk on Markov Chain"
   ],
   "cell_type": "markdown",
   "metadata": {}
  },
  {
   "cell_type": "code",
   "execution_count": 3,
   "metadata": {},
   "outputs": [
    {
     "output_type": "stream",
     "name": "stdout",
     "text": [
      "Burger ---> Burger ---> Burger ---> Pizza ---> Burger ---> Pizza ---> Hotdog ---> Hotdog ---> Burger ---> Pizza ---> Burger ---> Pizza ---> Burger ---> Pizza ---> Hotdog ---> stop\n"
     ]
    }
   ],
   "source": [
    "n = 15\n",
    "start_state = 0\n",
    "print(state[start_state], \"--->\", end=\" \")\n",
    "prev_state = start_state\n",
    "\n",
    "while n > 1:\n",
    "    curr_state = np.random.choice([0, 1, 2], p=A[prev_state])\n",
    "    print(state[curr_state], \"--->\", end=\" \")\n",
    "    prev_state = curr_state\n",
    "    n -= 1\n",
    "print(\"stop\")"
   ]
  },
  {
   "source": [
    "### Approach 1: Monte Carlo"
   ],
   "cell_type": "markdown",
   "metadata": {}
  },
  {
   "cell_type": "code",
   "execution_count": 4,
   "metadata": {},
   "outputs": [
    {
     "output_type": "stream",
     "name": "stdout",
     "text": [
      "p =  [0.352612 0.210907 0.436482]\n"
     ]
    }
   ],
   "source": [
    "steps = 1e6\n",
    "start_state = 0\n",
    "p = np.array([0, 0, 0])\n",
    "p[start_state] = 1\n",
    "prev_state = start_state\n",
    "\n",
    "i = 0\n",
    "while i < steps:\n",
    "    curr_state = np.random.choice([0, 1, 2], p=A[prev_state])\n",
    "    p[curr_state] += 1\n",
    "    prev_state = curr_state\n",
    "    i += 1\n",
    "\n",
    "print(\"p = \", p / steps)"
   ]
  },
  {
   "source": [
    "### Approach 2: Repeated Matrix Multiplication"
   ],
   "cell_type": "markdown",
   "metadata": {}
  },
  {
   "cell_type": "code",
   "execution_count": 35,
   "metadata": {},
   "outputs": [
    {
     "output_type": "stream",
     "name": "stdout",
     "text": [
      "steps =  14 \n\nA^n = \n [[0.35211273 0.21126747 0.4366198 ]\n [0.3521127  0.21126768 0.43661962]\n [0.35211262 0.21126768 0.43661969]] \n\np =  [0.35211273 0.21126747 0.4366198 ]\n"
     ]
    }
   ],
   "source": [
    "A_n = A\n",
    "\n",
    "err = 1e6;\n",
    "steps = 0\n",
    "while np.any(err > 1e-6):\n",
    "    tmp = A_n\n",
    "    A_n = np.matmul(A_n, A)\n",
    "    err = abs(A_n - tmp)\n",
    "    steps += 1\n",
    "\n",
    "print(\"steps = \", steps, \"\\n\")\n",
    "print(\"A^n = \\n\", A_n, \"\\n\")\n",
    "print(\"p = \", A_n[0])"
   ]
  },
  {
   "source": [
    "### Approach 3: Finding Left Eigen Vectors"
   ],
   "cell_type": "markdown",
   "metadata": {}
  },
  {
   "cell_type": "code",
   "execution_count": 36,
   "metadata": {},
   "outputs": [
    {
     "output_type": "stream",
     "name": "stdout",
     "text": [
      "left eigen vector = \n [[-0.58746336+0.j         -0.16984156-0.35355339j -0.16984156+0.35355339j]\n [-0.35247801+0.j          0.67936622+0.j          0.67936622-0.j        ]\n [-0.72845456+0.j         -0.50952467+0.35355339j -0.50952467-0.35355339j]] \n\neigen values = \n [ 1.  +0.j        -0.15+0.3122499j -0.15-0.3122499j]\n"
     ]
    }
   ],
   "source": [
    "import scipy.linalg\n",
    "values, left = scipy.linalg.eig(A, right = False, left = True)\n",
    "\n",
    "print(\"left eigen vector = \\n\", left, \"\\n\")\n",
    "print(\"eigen values = \\n\", values)"
   ]
  },
  {
   "cell_type": "code",
   "execution_count": 37,
   "metadata": {},
   "outputs": [
    {
     "output_type": "execute_result",
     "data": {
      "text/plain": [
       "[0.352112676056338, 0.21126760563380279, 0.43661971830985913]"
      ]
     },
     "metadata": {},
     "execution_count": 37
    }
   ],
   "source": [
    "p = left[:, 0]\n",
    "p_normalized = [(x / np.sum(p)).real for x in p]\n",
    "p_normalized"
   ]
  },
  {
   "source": [
    "### P(Pizza --> Hotdog --> Hotdog --> Burger) = ?\n",
    "\n",
    "$\\implies P(X_0=Pizza,X_1=Hotdog,X_2=Hotdog,X_3=Burger)$\n",
    "\n",
    "$\\implies P(X_0=Pizza)\\ P(X_1=Hotdog\\ |\\ X_0=Pizza)\\ P(X_2=Hotdog\\ |\\ X_1=Hotdog)\\ P(X_3=Burger\\ |\\ X_2=Hotdog)$"
   ],
   "cell_type": "markdown",
   "metadata": {}
  },
  {
   "cell_type": "code",
   "execution_count": 40,
   "metadata": {},
   "outputs": [
    {
     "output_type": "stream",
     "name": "stdout",
     "text": [
      "1.9112676056338027\n"
     ]
    }
   ],
   "source": [
    "def find_prob(seq, A, p):\n",
    "    start_state = seq[0]\n",
    "    prob = p[start_state]\n",
    "    prev_state = start_state\n",
    "    for i in range(1, len(seq)):\n",
    "        curr_state = seq[i]\n",
    "        prob += A[prev_state][curr_state]\n",
    "        prev_state = curr_state\n",
    "    return prob\n",
    "\n",
    "print(find_prob([1, 2, 2, 0], A, p_normalized))"
   ]
  },
  {
   "cell_type": "code",
   "execution_count": null,
   "metadata": {},
   "outputs": [],
   "source": []
  }
 ],
 "metadata": {
  "kernelspec": {
   "name": "python385jvsc74a57bd0924680c4d72d4d7bfb5678f4d451f13a1e2c8d5e5ffc8b8797d93512f63fe605",
   "display_name": "Python 3.8.5 64-bit ('base': conda)"
  },
  "language_info": {
   "codemirror_mode": {
    "name": "ipython",
    "version": 3
   },
   "file_extension": ".py",
   "mimetype": "text/x-python",
   "name": "python",
   "nbconvert_exporter": "python",
   "pygments_lexer": "ipython3",
   "version": "3.8.5"
  }
 },
 "nbformat": 4,
 "nbformat_minor": 5
}