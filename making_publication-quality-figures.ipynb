{
 "cells": [
  {
   "source": [
    "# I. Fig and Ax objects"
   ],
   "cell_type": "markdown",
   "metadata": {}
  },
  {
   "cell_type": "code",
   "execution_count": null,
   "metadata": {},
   "outputs": [],
   "source": [
    "# load package\n",
    "import matplotlib as mpl\n",
    "import matplotlib.pyplot as plt\n",
    "from matplotlib.ticker import MultipleLocator,FormatStrFormatter,MaxNLocator"
   ]
  },
  {
   "cell_type": "code",
   "execution_count": null,
   "metadata": {},
   "outputs": [],
   "source": [
    "mpl.rcParams.keys"
   ]
  },
  {
   "cell_type": "code",
   "execution_count": null,
   "metadata": {},
   "outputs": [],
   "source": [
    "mpl.rcParams['pdf.fonttype'] = 42\n",
    "mpl.rcParams['ps.fonttype'] = 42\n",
    "mpl.rcParams['font.family'] = 'Arial'"
   ]
  },
  {
   "cell_type": "code",
   "execution_count": null,
   "metadata": {},
   "outputs": [],
   "source": [
    "fig = plt.figure(figsize=(10,6))"
   ]
  },
  {
   "cell_type": "code",
   "execution_count": null,
   "metadata": {},
   "outputs": [],
   "source": [
    "mpl.rcParams['figure.figsize']"
   ]
  },
  {
   "cell_type": "code",
   "execution_count": null,
   "metadata": {},
   "outputs": [],
   "source": [
    "fig = plt.figure(figsize=(10,6))\n",
    "ax = plt.axes((0.1,0.1,0.5,0.8))"
   ]
  },
  {
   "cell_type": "code",
   "execution_count": null,
   "metadata": {},
   "outputs": [],
   "source": [
    "fig = plt.figure(figsize=(10,6))\n",
    "ax = plt.axes((0.1,0.1,0.5,0.8))\n",
    "ax.spines['right'].set_visible(False)\n",
    "ax.spines['left'].set_visible(False)\n",
    "ax.spines['bottom'].set_visible(False)\n",
    "ax.spines['top'].set_visible(False)"
   ]
  },
  {
   "cell_type": "code",
   "execution_count": null,
   "metadata": {},
   "outputs": [],
   "source": [
    "fig = plt.figure(figsize=(10,6))\n",
    "ax = plt.axes((0.1,0.1,0.5,0.8))\n",
    "ax.spines['right'].set_visible(False)\n",
    "ax.spines['left'].set_visible(False)\n",
    "ax.spines['bottom'].set_visible(False)\n",
    "ax.spines['top'].set_visible(False)\n",
    "ax.tick_params(axis='x',which='major',direction='out',length=10,width=5,color='red',pad=15,labelsize=15,labelcolor='green',\n",
    "               labelrotation=15)"
   ]
  },
  {
   "cell_type": "code",
   "execution_count": null,
   "metadata": {},
   "outputs": [],
   "source": [
    "fig = plt.figure(figsize=(10,6))\n",
    "ax = plt.axes((0.1,0.1,0.5,0.8))\n",
    "ax.spines['right'].set_visible(False)\n",
    "ax.spines['left'].set_visible(False)\n",
    "ax.spines['bottom'].set_visible(False)\n",
    "ax.spines['top'].set_visible(False)\n",
    "ax.tick_params(axis='x',which='major',direction='out',length=10,width=5,color='red',pad=15,labelsize=15,labelcolor='green',\n",
    "               labelrotation=15)\n",
    "ax.set_xticks([0.2,1])\n",
    "ax.set_xticklabels(['pos1','pos2'])"
   ]
  },
  {
   "cell_type": "code",
   "execution_count": null,
   "metadata": {},
   "outputs": [],
   "source": [
    "fig = plt.figure(figsize=(10,6))\n",
    "ax = plt.axes((0.1,0.1,0.5,0.8))\n",
    "ax.spines['right'].set_visible(False)\n",
    "ax.spines['left'].set_visible(False)\n",
    "ax.spines['bottom'].set_visible(False)\n",
    "ax.spines['top'].set_visible(False)\n",
    "ax.tick_params(axis='x',which='major',direction='out',length=10,width=5,color='red',pad=15,labelsize=15,labelcolor='green',\n",
    "               labelrotation=15)\n",
    "ax.set_xticks([0.2,1])\n",
    "ax.set_xticklabels(['pos1','pos2'])\n",
    "\n",
    "ax.yaxis.set_major_locator(MultipleLocator(0.5))\n",
    "ax.yaxis.set_minor_locator(MultipleLocator(0.1))"
   ]
  },
  {
   "cell_type": "code",
   "execution_count": null,
   "metadata": {},
   "outputs": [],
   "source": [
    "fig = plt.figure(figsize=(10,6))\n",
    "ax = plt.axes((0.1,0.1,0.5,0.8))\n",
    "ax.spines['right'].set_visible(False)\n",
    "ax.spines['left'].set_visible(False)\n",
    "ax.spines['bottom'].set_visible(False)\n",
    "ax.spines['top'].set_visible(False)\n",
    "ax.tick_params(axis='x',which='major',direction='out',length=10,width=5,color='red',pad=15,labelsize=15,labelcolor='green',\n",
    "               labelrotation=15)\n",
    "ax.set_xticks([0.2,1])\n",
    "ax.set_xticklabels(['pos1','pos2'])\n",
    "ax.yaxis.set_major_locator(MultipleLocator(0.5))\n",
    "ax.yaxis.set_minor_locator(MultipleLocator(0.1))\n",
    "a=ax.yaxis.get_major_locator()\n",
    "b=ax.yaxis.get_major_formatter()\n",
    "\n",
    "ax.grid(True,which='major',axis='both',alpha=0.3)"
   ]
  },
  {
   "cell_type": "code",
   "execution_count": null,
   "metadata": {},
   "outputs": [],
   "source": [
    "fig = plt.figure(figsize=(10,6))\n",
    "ax = plt.axes((0.1,0.1,0.5,0.8))\n",
    "ax.spines['right'].set_visible(False)\n",
    "ax.spines['left'].set_visible(False)\n",
    "ax.spines['bottom'].set_visible(False)\n",
    "ax.spines['top'].set_visible(False)\n",
    "ax.tick_params(axis='x',which='major',direction='out',length=10,width=5,color='red',pad=15,labelsize=15,labelcolor='green',\n",
    "               labelrotation=15)\n",
    "ax.set_xticks([0.2,1])\n",
    "ax.set_xticklabels(['pos1','pos2'])\n",
    "ax.yaxis.set_major_locator(MultipleLocator(0.5))\n",
    "ax.yaxis.set_minor_locator(MultipleLocator(0.1))\n",
    "a=ax.yaxis.get_major_locator()\n",
    "b=ax.yaxis.get_major_formatter()\n",
    "ax.grid(True,which='major',axis='both',alpha=0.3)\n",
    "\n",
    "c = ax.get_xticks()\n",
    "d = ax.get_xticklabels()"
   ]
  },
  {
   "cell_type": "code",
   "execution_count": null,
   "metadata": {},
   "outputs": [],
   "source": [
    "print(c)\n",
    "# [0.2 1. ]\n",
    "print(d)\n",
    "# [Text(0.2, 0, 'pos1'), Text(1.0, 0, 'pos2')]"
   ]
  },
  {
   "cell_type": "code",
   "execution_count": null,
   "metadata": {},
   "outputs": [],
   "source": [
    "fig,axes = plt.subplots(nrows=4,ncols=4,figsize=(10,6))"
   ]
  },
  {
   "cell_type": "code",
   "execution_count": null,
   "metadata": {},
   "outputs": [],
   "source": [
    "fig,axes = plt.subplots(nrows=4,ncols=4,figsize=(10,6),gridspec_kw={'wspace':0.5,'hspace':0.5})"
   ]
  },
  {
   "source": [
    "# II. Line plot, legend, color"
   ],
   "cell_type": "markdown",
   "metadata": {}
  },
  {
   "cell_type": "code",
   "execution_count": null,
   "metadata": {},
   "outputs": [],
   "source": [
    "# load packages\n",
    "import matplotlib as mpl\n",
    "import matplotlib.pyplot as plt\n",
    "import numpy as np\n",
    "\n",
    "# modify global setting\n",
    "mpl.rcParams['pdf.fonttype'] = 42\n",
    "mpl.rcParams['ps.fonttype'] = 42\n",
    "mpl.rcParams['font.family'] = 'Arial'\n",
    "\n",
    "# prepare some data\n",
    "np.random.seed(42)\n",
    "x = np.arange(1,11,1)\n",
    "y1 = np.linspace(300,400,10)\n",
    "y2 = np.random.randint(low=300,high=400,size=10)"
   ]
  },
  {
   "cell_type": "code",
   "execution_count": null,
   "metadata": {},
   "outputs": [],
   "source": [
    "fig = plt.figure(figsize=(10,6))\n",
    "ax = fig.add_axes([0.1,0.1,0.5,0.8])\n",
    "ax.plot(x,y1)"
   ]
  },
  {
   "cell_type": "code",
   "execution_count": null,
   "metadata": {},
   "outputs": [],
   "source": [
    "fig = plt.figure(figsize=(10,6))\n",
    "ax = fig.add_axes([0.1,0.1,0.5,0.8])\n",
    "ax.plot(x,y1,   # data\n",
    "        marker='o',     # each marker will be rendered as a circle\n",
    "        markersize=8,   # marker size\n",
    "        markerfacecolor='red',   # marker facecolor\n",
    "        markeredgecolor='black',  # marker edgecolor\n",
    "        markeredgewidth=2,       # marker edge width\n",
    "        linestyle='--',            # line style will be dash line\n",
    "        linewidth=3)          # line width"
   ]
  },
  {
   "cell_type": "code",
   "execution_count": null,
   "metadata": {},
   "outputs": [],
   "source": [
    "print(mpl.rcParams['lines.marker'])  #None\n",
    "print(mpl.rcParams['lines.markersize'])  #6.0\n",
    "print(mpl.rcParams['lines.linewidth'])   # 1.5"
   ]
  },
  {
   "cell_type": "code",
   "execution_count": null,
   "metadata": {},
   "outputs": [],
   "source": [
    "fig = plt.figure(figsize=(10,6))\n",
    "ax = fig.add_axes([0.1,0.1,0.5,0.8])\n",
    "ax.plot(x,y1,marker='o',markersize=8,markerfacecolor='red',    \n",
    "        markeredgecolor='black',markeredgewidth=2,linestyle='--',   \n",
    "        linewidth=3)\n",
    "ax.plot(x,y2,marker='o')"
   ]
  },
  {
   "cell_type": "code",
   "execution_count": null,
   "metadata": {},
   "outputs": [],
   "source": [
    "fig = plt.figure(figsize=(10,6))\n",
    "ax = fig.add_axes([0.1,0.1,0.5,0.8])\n",
    "ax.plot(x,y1,marker='o',markersize=8,markerfacecolor='red',\n",
    "        markeredgecolor='black',markeredgewidth=2,linestyle='--',\n",
    "        linewidth=3,zorder=3)\n",
    "ax.plot(x,y2,marker='o')"
   ]
  },
  {
   "cell_type": "code",
   "execution_count": null,
   "metadata": {},
   "outputs": [],
   "source": [
    "print(mpl.rcParams['axes.prop_cycle'])"
   ]
  },
  {
   "cell_type": "code",
   "execution_count": null,
   "metadata": {},
   "outputs": [],
   "source": [
    "mpl.colors.to_rgb('#1f77b4')\n",
    "#(0.12156862745098039, 0.4666666666666667, 0.7058823529411765)"
   ]
  },
  {
   "cell_type": "code",
   "execution_count": null,
   "metadata": {},
   "outputs": [],
   "source": [
    "fig = plt.figure(figsize=(10,6))\n",
    "ax = fig.add_axes([0.1,0.1,0.5,0.8])\n",
    "ax.plot(x,y1,marker='o',markersize=8,markerfacecolor='red',\n",
    "        markeredgecolor='black',markeredgewidth=2,\n",
    "        linestyle='--',linewidth=3,zorder=2,label='blue line')\n",
    "ax.plot(x,y2,marker='o',label='orange line')\n",
    "ax.legend()"
   ]
  },
  {
   "cell_type": "code",
   "execution_count": null,
   "metadata": {},
   "outputs": [],
   "source": [
    "p1 = ax.plot(x,y1,marker='o',markersize=8,markerfacecolor='red',    \n",
    "            markeredgecolor='black',markeredgewidth=2,\n",
    "            linestyle='--',linewidth=3,zorder=3)\n",
    "p2 = ax.plot(x,y2,marker='o')"
   ]
  },
  {
   "cell_type": "code",
   "execution_count": null,
   "metadata": {},
   "outputs": [],
   "source": [
    "print(p1)\n",
    "#[<matplotlib.lines.Line2D object at 0x1822957f0>]\n",
    "print(type(p1))\n",
    "# <class 'list'>\n",
    "type(p1[0])\n",
    "# <class 'matplotlib.lines.Line2D'>"
   ]
  },
  {
   "cell_type": "code",
   "execution_count": null,
   "metadata": {},
   "outputs": [],
   "source": [
    "fig = plt.figure(figsize=(10,6))\n",
    "ax = fig.add_axes([0.1,0.1,0.5,0.8])\n",
    "p1 = ax.plot(x,y1,marker='o',markersize=8,markerfacecolor='red',\n",
    "            markeredgecolor='black',markeredgewidth=2,\n",
    "            linestyle='--',linewidth=3,zorder=3)\n",
    "p2 = ax.plot(x,y2,marker='o')\n",
    "ax.legend(handles=[p1[0],p2[0]],labels=['blue line','orange line'])"
   ]
  },
  {
   "cell_type": "code",
   "execution_count": null,
   "metadata": {},
   "outputs": [],
   "source": [
    "fig = plt.figure(figsize=(10,6))\n",
    "ax = fig.add_axes([0.1,0.1,0.5,0.8])\n",
    "h1 = ax.plot([],[],marker='o',markersize=8,markerfacecolor='red',  \n",
    "            markeredgecolor='black',markeredgewidth=2,linestyle='--',\n",
    "            linewidth=3)\n",
    "h2 = ax.plot([],[],marker='o')\n",
    "ax.legend(handles=[h1[0],h2[0]],labels=['blue line','orange line'])"
   ]
  },
  {
   "cell_type": "code",
   "execution_count": null,
   "metadata": {},
   "outputs": [],
   "source": [
    "fig = plt.figure(figsize=(10,6))\n",
    "ax = fig.add_axes([0.1,0.1,0.5,0.8])\n",
    "p1 = ax.plot(x,y1,marker='o',markersize=8,markerfacecolor='red',\n",
    "            markeredgecolor='black',markeredgewidth=2,\n",
    "            linestyle='--',linewidth=3,zorder=3)\n",
    "p2 = ax.plot(x,y2,marker='o')\n",
    "ax.legend(handles=[p1[0],p2[0]],\n",
    "            labels=['blue line','orange line'],\n",
    "            loc='upper left',\n",
    "            bbox_to_anchor=(1,1))"
   ]
  },
  {
   "cell_type": "code",
   "execution_count": null,
   "metadata": {},
   "outputs": [],
   "source": [
    "fig = plt.figure(figsize=(10,6))\n",
    "ax = fig.add_axes([0.1,0.1,0.5,0.8])\n",
    "p1 = ax.plot(x,y1,marker='o',markersize=8,markerfacecolor='red',\n",
    "            markeredgecolor='black',markeredgewidth=2,\n",
    "            linestyle='--',linewidth=3,zorder=3)\n",
    "p2 = ax.plot(x,y2,marker='o')\n",
    "ax.legend(handles=[p1[0],p2[0]],\n",
    "            labels=['blue line','orange line'],\n",
    "            loc='upper left',\n",
    "            bbox_to_anchor=(1,1),\n",
    "            title='legend',\n",
    "            frameon=False)"
   ]
  },
  {
   "source": [
    "# III. box plot, bar plot, scatter plot, histogram, heatmap, color map"
   ],
   "cell_type": "markdown",
   "metadata": {}
  },
  {
   "cell_type": "code",
   "execution_count": null,
   "metadata": {},
   "outputs": [],
   "source": [
    "# load packages\n",
    "import matplotlib as mpl\n",
    "import matplotlib.pyplot as plt\n",
    "import numpy as np\n",
    "# prepare some data\n",
    "np.random.seed(42)\n",
    "data1 = np.random.randn(100)\n",
    "data2 = np.random.randn(100)\n",
    "data3 = np.random.randn(100)\n",
    "\n",
    "fig,ax = plt.subplots()\n",
    "bp = ax.boxplot(x=[data1,data2,data3],  # sequence of arrays\n",
    "                positions=[1,5,7],   # where to put these arrays\n",
    "                patch_artist=True)  # allow filling the box with colors"
   ]
  },
  {
   "cell_type": "code",
   "execution_count": null,
   "metadata": {},
   "outputs": [],
   "source": [
    "fig,ax = plt.subplots()\n",
    "bp = ax.boxplot(x=[data1,data2,data3],  # sequence of arrays\n",
    "                positions=[1,5,7],   # where to put these arrays\n",
    "                patch_artist=True)  # allow filling the box with colors\n",
    "for flier in bp['fliers']:    # outliers\n",
    "    flier.set_markersize(9)\n",
    "    flier.set_marker('v')\n",
    "for box in bp['boxes']:     # box bodys\n",
    "    box.set_facecolor('green')\n",
    "    box.set_edgecolor('black')\n",
    "    box.set_linewidth(2)\n",
    "for whisker in bp['whiskers']:   # whisker line\n",
    "    whisker.set_linewidth(5)\n",
    "for cap in bp['caps']:     # cap line\n",
    "    cap.set_color('red')\n",
    "    cap.set_linewidth(10)\n",
    "for median in bp['medians']:   # median line\n",
    "    median.set_linewidth(15)"
   ]
  },
  {
   "cell_type": "code",
   "execution_count": null,
   "metadata": {},
   "outputs": [],
   "source": [
    "fig,ax = plt.subplots()\n",
    "ax.bar(x=[1,4,9],   # positions to put the bar to\n",
    "        height=(data1.max(),data2.max(),data3.max()),  # height of each bar\n",
    "        width=0.5,   # width of the bar\n",
    "        edgecolor='black',   # edgecolor of the bar\n",
    "        color=['green','red','orange'],    # fill color of the bar\n",
    "        yerr=np.array([[0.1,0.1,0.1],[0.15,0.15,0.15]]), # \n",
    "        ecolor='red',\n",
    "        capsize=5)"
   ]
  },
  {
   "cell_type": "code",
   "execution_count": null,
   "metadata": {},
   "outputs": [],
   "source": [
    "fig,ax = plt.subplots()\n",
    "ax.hist(x=[data1,data2],bins=20,edgecolor='black')"
   ]
  },
  {
   "cell_type": "code",
   "execution_count": null,
   "metadata": {},
   "outputs": [],
   "source": [
    "fig,ax = plt.subplots()\n",
    "ax.scatter(x=[1,2,3],y=[1,2,3],s=[100,200,300],c=['r','g','b'])"
   ]
  },
  {
   "cell_type": "code",
   "execution_count": null,
   "metadata": {},
   "outputs": [],
   "source": [
    "fig, ax = plt.subplots()\n",
    "ax.scatter(x=np.arange(10),\n",
    "            y=np.arange(10)+5,\n",
    "            s=np.arange(10)*10,\n",
    "            c=np.random.rand(10),  # make sure c is numeric value\n",
    "            cmap='spring')"
   ]
  },
  {
   "cell_type": "code",
   "execution_count": null,
   "metadata": {},
   "outputs": [],
   "source": [
    "fig,ax = plt.subplots()\n",
    "ax.imshow(np.random.randn(5,5),cmap='Set1')"
   ]
  },
  {
   "cell_type": "code",
   "execution_count": null,
   "metadata": {},
   "outputs": [],
   "source": [
    "fig,ax = plt.subplots()\n",
    "ax.imshow(np.random.randn(5,5),cmap='Set1')\n",
    "ax.set_xticks(np.linspace(0.5,3.5,4))\n",
    "ax.set_yticks(np.linspace(0.5,3.5,4))\n",
    "ax.tick_params(axis='both',length=0,labelsize=0)\n",
    "ax.grid(b=True,which='major',axis='both',color='black')"
   ]
  },
  {
   "cell_type": "code",
   "execution_count": null,
   "metadata": {},
   "outputs": [],
   "source": [
    "fig,ax = plt.subplots()\n",
    "ax.imshow(np.random.randn(5,5),cmap='Set1')\n",
    "ax.set_xticks(np.linspace(0.5,3.5,4))\n",
    "ax.set_yticks(np.linspace(0.5,3.5,4))\n",
    "ax.tick_params(axis='both',length=0,labelsize=0)\n",
    "ax.grid(b=True,which='major',axis='both',color='black')\n",
    "ax.text(-0.2,3,'hey')"
   ]
  },
  {
   "source": [
    "# IV. violin plot, dendrogram"
   ],
   "cell_type": "markdown",
   "metadata": {}
  },
  {
   "cell_type": "code",
   "execution_count": null,
   "metadata": {},
   "outputs": [],
   "source": [
    "# load packages\n",
    "import matplotlib as mpl\n",
    "import matplotlib.pyplot as plt\n",
    "\n",
    "# set global parameters\n",
    "mpl.rcParams['pdf.fonttype'] = 42\n",
    "mpl.rcParams['ps.fonttype'] = 42\n",
    "mpl.rcParams['font.family'] = 'Arial'\n",
    "# prepare some data for drawing figures\n",
    "import numpy as np\n",
    "\n",
    "np.random.seed(42)\n",
    "data1 = np.random.randn(100)\n",
    "data2 = np.random.randn(100)\n",
    "data3 = np.random.randn(100)"
   ]
  },
  {
   "cell_type": "code",
   "execution_count": null,
   "metadata": {},
   "outputs": [],
   "source": [
    "dataset = [data1,data2,data3] # the sequence of arrays\n",
    "positions = [1,5,7]  # where to put those violin, the x-coordinates"
   ]
  },
  {
   "cell_type": "code",
   "execution_count": null,
   "metadata": {},
   "outputs": [],
   "source": [
    "fig,ax = plt.subplots()\n",
    "vp = ax.violinplot(dataset=dataset,positions=[1,5,7])"
   ]
  },
  {
   "cell_type": "code",
   "execution_count": null,
   "metadata": {},
   "outputs": [],
   "source": [
    "fig,ax = plt.subplots()\n",
    "vp = ax.violinplot(dataset=dataset,positions=[1,5,7])\n",
    "\n",
    "for body in vp['bodies']:\n",
    "    body.set_facecolor('red')\n",
    "    body.set_edgecolor('black')\n",
    "    body.set_alpha(1)\n",
    "vp['cmaxes'].set_color('black')\n",
    "vp['cmins'].set_color('black')\n",
    "vp['cbars'].set_color('black')"
   ]
  },
  {
   "cell_type": "code",
   "execution_count": null,
   "metadata": {},
   "outputs": [],
   "source": [
    "def get_whisker(tmp,dataset):\n",
    "    whisker = []\n",
    "    for quantile,data in zip(tmp,dataset):\n",
    "        data = np.array(data)\n",
    "        q1 = quantile[0]\n",
    "        median = quantile[1]\n",
    "        q3 = quantile[2]\n",
    "        iqr = q3 - q1\n",
    "        upper = q3 + 1.5 * iqr\n",
    "        upper = np.clip(upper,q3,data.max())\n",
    "        lower = q1 - 1.5 * iqr\n",
    "        lower = np.clip(lower,data.min(),q1)\n",
    "        whisker.append((upper,lower))\n",
    "    return whisker"
   ]
  },
  {
   "cell_type": "code",
   "execution_count": null,
   "metadata": {},
   "outputs": [],
   "source": [
    "tmp = [np.percentile(data,[25,50,75]) for data in dataset]\n",
    "whisker = get_whisker(tmp,dataset)"
   ]
  },
  {
   "cell_type": "code",
   "execution_count": null,
   "metadata": {},
   "outputs": [],
   "source": [
    "fig,ax = plt.subplots()\n",
    "vp = ax.violinplot(dataset=dataset,positions=[1,5,7])\n",
    "\n",
    "for body in vp['bodies']:\n",
    "    body.set_facecolor('red')\n",
    "    body.set_edgecolor('black')\n",
    "    body.set_alpha(1)\n",
    "vp['cmaxes'].set_color('black')\n",
    "vp['cmins'].set_color('black')\n",
    "vp['cbars'].set_color('black')\n",
    "ax.scatter(positions,\n",
    "            [quantile[1] for quantile in tmp],\n",
    "            marker='o',color='white',s=30,zorder=3)"
   ]
  },
  {
   "cell_type": "code",
   "execution_count": null,
   "metadata": {},
   "outputs": [],
   "source": [
    "fig,ax = plt.subplots()\n",
    "vp = ax.violinplot(dataset=dataset,positions=[1,5,7])\n",
    "\n",
    "for body in vp['bodies']:\n",
    "    body.set_facecolor('red')\n",
    "    body.set_edgecolor('black')\n",
    "    body.set_alpha(1)\n",
    "vp['cmaxes'].set_color('black')\n",
    "vp['cmins'].set_color('black')\n",
    "vp['cbars'].set_color('black')\n",
    "ax.scatter(positions,\n",
    "            [quantile[1] for quantile in tmp],\n",
    "            marker='o',color='white',s=30,zorder=3)\n",
    "ax.vlines(positions,\n",
    "            [quantile[0] for quantile in tmp],\n",
    "            [quantile[2] for quantile in tmp],\n",
    "            color='black',linestyle='-',lw=5)"
   ]
  },
  {
   "cell_type": "code",
   "execution_count": null,
   "metadata": {},
   "outputs": [],
   "source": [
    "fig,ax = plt.subplots()\n",
    "vp = ax.violinplot(dataset=dataset,positions=[1,5,7])\n",
    "\n",
    "for body in vp['bodies']:\n",
    "    body.set_facecolor('red')\n",
    "    body.set_edgecolor('black')\n",
    "    body.set_alpha(1)\n",
    "vp['cmaxes'].set_color('black')\n",
    "vp['cmins'].set_color('black')\n",
    "vp['cbars'].set_color('black')\n",
    "ax.scatter(positions,\n",
    "            [quantile[1] for quantile in tmp],\n",
    "            marker='o',color='white',s=30,zorder=3)\n",
    "ax.vlines(positions,\n",
    "            [quantile[0] for quantile in tmp],\n",
    "            [quantile[2] for quantile in tmp],\n",
    "            color='black',linestyle='-',lw=5)\n",
    "ax.vlines(positions,\n",
    "            [bound[0] for bound in whisker],\n",
    "            [bound[1] for bound in whisker],\n",
    "            color='orange',linestyle='-',lw=2)"
   ]
  },
  {
   "cell_type": "code",
   "execution_count": null,
   "metadata": {},
   "outputs": [],
   "source": [
    "sample1 = np.random.randn(100)\n",
    "sample2 = np.random.randn(100)\n",
    "sample3 = np.random.randn(100)\n",
    "sample4 = np.random.randn(100)\n",
    "sample5 = np.random.randn(100)\n",
    "sample6 = np.random.randn(100)\n",
    "\n",
    "mat = np.row_stack([sample1,sample2,sample3,sample4,sample5,sample6])"
   ]
  },
  {
   "cell_type": "code",
   "execution_count": null,
   "metadata": {},
   "outputs": [],
   "source": [
    "from scipy.spatial.distance import pdist,squareform\n",
    "dense_distance = pdist(mat,'euclidean')\n",
    "square_distance = squareform(dense_distance)"
   ]
  },
  {
   "cell_type": "code",
   "execution_count": null,
   "metadata": {},
   "outputs": [],
   "source": [
    "print(dense_distance)"
   ]
  },
  {
   "cell_type": "code",
   "execution_count": null,
   "metadata": {},
   "outputs": [],
   "source": [
    "from scipy.cluster.hierarchy import linkage\n",
    "linkage_matrix = linkage(dense_distance,method='ward',metric='euclidean')"
   ]
  },
  {
   "cell_type": "code",
   "execution_count": null,
   "metadata": {},
   "outputs": [],
   "source": [
    "from scipy.cluster.hierarchy import linkage,dendrogram\n",
    "linkage_matrix = linkage(dense_distance,method='ward',metric='euclidean')\n",
    "fig,ax = plt.subplots()\n",
    "dendrogram(linkage_matrix,ax=ax)"
   ]
  },
  {
   "source": [
    "# V. plots in Seaborn (cluster heatmap, pair plot, dist plot, etc.)"
   ],
   "cell_type": "markdown",
   "metadata": {}
  },
  {
   "cell_type": "code",
   "execution_count": null,
   "metadata": {},
   "outputs": [],
   "source": [
    "import matplotlib as mpl\n",
    "import matplotlib.pyplot as plt\n",
    "from matplotlib.colors import ListedColormap\n",
    "\n",
    "mpl.rcParams['pdf.fonttype'] = 42\n",
    "mpl.rcParams['ps.fonttype'] = 42\n",
    "mpl.rcParams['font.family'] = 'Arial'\n",
    "\n",
    "import numpy as np\n",
    "\n",
    "np.random.seed(42)\n",
    "data1 = np.random.randn(100)\n",
    "data2 = np.random.randn(100)\n",
    "data3 = np.random.randn(100)\n",
    "\n",
    "import seaborn as sns\n",
    "import pandas as pd\n",
    "\n",
    "# prepare datasets\n",
    "\n",
    "penguin = sns.load_dataset('penguins')   # long form\n",
    "synthesis = pd.DataFrame({'var1':data1,'var2':data2,'var3':data3})   # wideform\n",
    "a = synthesis.stack().reset_index(-1)"
   ]
  },
  {
   "source": [
    "https://towardsdatascience.com/all-you-need-to-know-about-seaborn-6678a02f31ff"
   ],
   "cell_type": "markdown",
   "metadata": {}
  }
 ],
 "metadata": {
  "kernelspec": {
   "name": "python3",
   "display_name": "Python 3.8.5 64-bit (conda)",
   "metadata": {
    "interpreter": {
     "hash": "924680c4d72d4d7bfb5678f4d451f13a1e2c8d5e5ffc8b8797d93512f63fe605"
    }
   }
  },
  "language_info": {
   "codemirror_mode": {
    "name": "ipython",
    "version": 3
   },
   "file_extension": ".py",
   "mimetype": "text/x-python",
   "name": "python",
   "nbconvert_exporter": "python",
   "pygments_lexer": "ipython3",
   "version": "3.8.5-final"
  }
 },
 "nbformat": 4,
 "nbformat_minor": 4
}