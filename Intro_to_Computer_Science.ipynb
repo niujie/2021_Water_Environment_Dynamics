{
 "cells": [
  {
   "cell_type": "markdown",
   "metadata": {
    "collapsed": true,
    "pycharm": {
     "name": "#%% md\n"
    }
   },
   "source": [
    "## 什么是程序？\n",
    "\n",
    "```\n",
    "01010101 10101010 00110111 01010101 10101010 00110111 01010101 10101010\n",
    "10101010 00110111 01010101 10101010 01010101 10101010 00110111 01010101\n",
    "00110111 01010101 10101010 00110111 01010101 10101010 01010101 10101010\n",
    "01010101 10101010 00110111 01010101 10101010 10101010 00110111 01010101\n",
    "01010101 10101010 00110111 01010101 10101010 00110111 01010101 10101010\n",
    "```\n",
    "\n",
    "如何让计算机屏幕显示\n",
    "\n",
    "```\n",
    "hello world\n",
    "```\n",
    "\n",
    "# 输入 --> <font color=yellow>? ? ?</font> --> 输出\n",
    "\n",
    "```\n",
    "二进制：    1001000 1001001 100001\n",
    "\n",
    "十进制：       72     73      33\n",
    "\n",
    "ASCII映射：    H      I       ！\n",
    "```\n",
    "\n",
    "<table><tr><td bgcolor=#72>72</td></tr><tr><td bgcolor=#73>73</td></tr><tr><td bgcolor=#33>33</td></tr></table>\n",
    "\n",
    "色块又能组合成图像，静态图像又能组合成动画、视频……\n",
    "\n",
    "# 输入 --> <font color=yellow>算法</font> --> 输出\n",
    "\n",
    "# 程序 = 算法 + 数据结构"
   ]
  },
  {
   "cell_type": "markdown",
   "source": [
    "## 什么是算法？\n",
    "\n",
    "Q：如何将一头大象放进冰箱？\n",
    "\n",
    "A：\n",
    "- 第一步\n",
    "- 第二步\n",
    "- 第三步\n",
    "\n",
    "### 快速排序算法\n",
    "\n",
    "1. 设定一个分界值，通过该分界值将数组分成左右两部分。\n",
    "2. 将大于或等于分界值的数据集中到数组右边，小于分界值的数据集中到数组的左边。此时，左边部分中各元素都小于或等于分界值，而右边部分中各元素都大于或等于分界值。\n",
    "3. 然后，左边和右边的数据独立排序。对于左侧的数组数据，又可以取一个分界值，将该部分数据分成左右两部分，同样在左边放置较小值，右边放置较大值。右侧的数组数据也可以做类似处理。\n",
    "4. 重复上述过程，可以看出，这是一个递归定义。通过递归将左侧部分排好序后，再递归排好右侧部分的顺序。当左、右两个部分各数据排序完成后，整个数组的排序也就完成了。\n",
    "\n",
    "### 伪代码\n",
    "\n",
    "1. 设置两个变量i、j，排序开始的时候：`i=0，j=N-1`；\n",
    "2. 以第一个数组元素作为关键数据，赋值给`key`，即`key=A[0]`；\n",
    "3. 从j开始向前搜索，即由后开始向前搜索(`j--`)，找到第一个小于`key`的值`A[j]`，将`A[j]`和`A[i]`的值交换；\n",
    "4. 从i开始向后搜索，即由前开始向后搜索(`i++`)，找到第一个大于`key`的`A[i]`，将`A[i]`和`A[j]`的值交换；\n",
    "5. 重复第3、4步，直到`i==j`； (3,4步中，没找到符合条件的值，即3中`A[j]`不小于`key`,4中`A[i]`不大于`key`的时候改变j、i的值，使得`j=j-1，i=i+1`，直至找到为止。找到符合条件的值，进行交换的时候i， j指针位置不变。另外，`i==j`这一过程一定正好是i+或j-完成的时候，此时令循环结束）。\n",
    "\n",
    "### Python3 代码\n",
    "\n",
    "```python\n",
    "def quick_sort(data):\n",
    "    \"\"\"快速排序\"\"\"\n",
    "    if len(data) >= 2:  # 递归入口及出口\n",
    "        mid = data[len(data)//2]  # 选取基准值，也可以选取第一个或最后一个元素\n",
    "        left, right = [], []  # 定义基准值左右两侧的列表\n",
    "        data.remove(mid)  # 从原始数组中移除基准值\n",
    "        for num in data:\n",
    "            if num >= mid:\n",
    "                right.append(num)\n",
    "            else:\n",
    "                left.append(num)\n",
    "        return quick_sort(left) + [mid] + quick_sort(right)\n",
    "    else:\n",
    "        return data\n",
    "\n",
    "# 示例：\n",
    "array = [2,3,5,7,1,4,6,15,5,2,7,9,10,15,9,17,12]\n",
    "print(quick_sort(array))\n",
    "# 输出为[1, 2, 2, 3, 4, 5, 5, 6, 7, 7, 9, 9, 10, 12, 15, 15, 17]\n",
    "```"
   ],
   "metadata": {
    "collapsed": false,
    "pycharm": {
     "name": "#%% md\n"
    }
   }
  },
  {
   "cell_type": "markdown",
   "source": [
    "## 程序\n",
    "\n",
    "人类指令：打印 Hello, world!\n",
    "\n",
    "python代码\n",
    "\n",
    "```python\n",
    "print(\"Hello, world!\")\n",
    "```\n",
    "\n",
    "指令：让counter等于1\n",
    "\n",
    "python代码\n",
    "```python\n",
    "counter = 1\n",
    "```\n",
    "\n",
    "指令：让counter增加1\n",
    "\n",
    "python代码\n",
    "```python\n",
    "counter = counter + 1\n",
    "# or\n",
    "counter += 1\n",
    "```\n",
    "\n",
    "如果 x < y，打印 x is less than y\n",
    "```python\n",
    "if x < y:\n",
    "  print(\"x is less than y\")\n",
    "```\n",
    "\n",
    "如果 x < y，打印 x is less than y\n",
    "否则，如果 x > y, 打印 x is greater than y\n",
    "```python\n",
    "if x < y:\n",
    "  print(\"x is less than y\")\n",
    "elif x > y:\n",
    "  print(\"x is greater than y\")\n",
    "```\n",
    "\n",
    "如果 x < y，打印 x is less than y\n",
    "否则，如果 x > y，打印 x is greater than y\n",
    "否则，如果 x等于y，打印 x is equal to y\n",
    "```python\n",
    "if x < y:\n",
    "  print(\"x is less than y\")\n",
    "elif x > y:\n",
    "  print(\"x is greater than y\")\n",
    "elif x == y:\n",
    "  print(\"x is equal to y\")\n",
    "```\n",
    "\n",
    "### 简单优化\n",
    "\n",
    "如果 x < y，打印 x is less than y\n",
    "否则，如果 x > y，打印 x is greater than y\n",
    "否则，x <font color=yellow>只能等于</font> y，打印 x is equal to y\n",
    "```python\n",
    "if x < y:\n",
    "  print(\"x is less than y\")\n",
    "elif x > y:\n",
    "  print(\"x is greater than y\")\n",
    "else:\n",
    "  print(\"x is equal to y\")\n",
    "```"
   ],
   "metadata": {
    "collapsed": false,
    "pycharm": {
     "name": "#%% md\n"
    }
   }
  },
  {
   "cell_type": "code",
   "execution_count": null,
   "outputs": [],
   "source": [],
   "metadata": {
    "collapsed": false,
    "pycharm": {
     "name": "#%%\n"
    }
   }
  }
 ],
 "metadata": {
  "kernelspec": {
   "display_name": "Python 3",
   "language": "python",
   "name": "python3"
  },
  "language_info": {
   "codemirror_mode": {
    "name": "ipython",
    "version": 2
   },
   "file_extension": ".py",
   "mimetype": "text/x-python",
   "name": "python",
   "nbconvert_exporter": "python",
   "pygments_lexer": "ipython2",
   "version": "2.7.6"
  }
 },
 "nbformat": 4,
 "nbformat_minor": 0
}